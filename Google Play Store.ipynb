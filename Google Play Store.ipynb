{
 "cells": [
  {
   "cell_type": "code",
   "execution_count": 1,
   "id": "df91f049-626a-4ddf-9334-0aec295a19a8",
   "metadata": {},
   "outputs": [],
   "source": [
    "import os\n",
    "import pandas as pd # For handling the data\n",
    "import numpy as np # For calculations\n",
    "import matplotlib.pyplot as plt # For making charts\n",
    "import seaborn as sns # For making fancy charts"
   ]
  },
  {
   "cell_type": "code",
   "execution_count": 2,
   "id": "eab4e153-fa7d-4ffd-8801-fef53ac8c7e3",
   "metadata": {},
   "outputs": [
    {
     "name": "stdout",
     "output_type": "stream",
     "text": [
      "Current Directory: /Users/amarachiordor/Documents/HNG Data Analysis/Datasets\n"
     ]
    }
   ],
   "source": [
    "current_directory = os.getcwd()\n",
    "print(\"Current Directory:\", current_directory)"
   ]
  },
  {
   "cell_type": "code",
   "execution_count": 3,
   "id": "b7900160-4f41-4950-9820-7bb8b9f79c5a",
   "metadata": {},
   "outputs": [
    {
     "name": "stdout",
     "output_type": "stream",
     "text": [
      "Files in Directory: ['googleplaystore_user_reviews.csv', 'googleplaystore.csv', 'Google Play Store.ipynb', 'appleAppData.csv', '.ipynb_checkpoints', 'Google-Playstore.csv']\n"
     ]
    }
   ],
   "source": [
    "files = os.listdir()\n",
    "print(\"Files in Directory:\", files)"
   ]
  },
  {
   "cell_type": "code",
   "execution_count": 4,
   "id": "2a4c4398-d5e4-4b50-af4c-724df70b9a06",
   "metadata": {},
   "outputs": [
    {
     "name": "stdout",
     "output_type": "stream",
     "text": [
      "Requirement already satisfied: pandas in /opt/anaconda3/lib/python3.12/site-packages (2.2.2)\n",
      "Requirement already satisfied: googletrans==4.0.0-rc1 in /opt/anaconda3/lib/python3.12/site-packages (4.0.0rc1)\n",
      "Requirement already satisfied: langdetect in /opt/anaconda3/lib/python3.12/site-packages (1.0.9)\n",
      "Requirement already satisfied: httpx==0.13.3 in /opt/anaconda3/lib/python3.12/site-packages (from googletrans==4.0.0-rc1) (0.13.3)\n",
      "Requirement already satisfied: certifi in /opt/anaconda3/lib/python3.12/site-packages (from httpx==0.13.3->googletrans==4.0.0-rc1) (2025.1.31)\n",
      "Requirement already satisfied: hstspreload in /opt/anaconda3/lib/python3.12/site-packages (from httpx==0.13.3->googletrans==4.0.0-rc1) (2025.1.1)\n",
      "Requirement already satisfied: sniffio in /opt/anaconda3/lib/python3.12/site-packages (from httpx==0.13.3->googletrans==4.0.0-rc1) (1.3.0)\n",
      "Requirement already satisfied: chardet==3.* in /opt/anaconda3/lib/python3.12/site-packages (from httpx==0.13.3->googletrans==4.0.0-rc1) (3.0.4)\n",
      "Requirement already satisfied: idna==2.* in /opt/anaconda3/lib/python3.12/site-packages (from httpx==0.13.3->googletrans==4.0.0-rc1) (2.10)\n",
      "Requirement already satisfied: rfc3986<2,>=1.3 in /opt/anaconda3/lib/python3.12/site-packages (from httpx==0.13.3->googletrans==4.0.0-rc1) (1.5.0)\n",
      "Requirement already satisfied: httpcore==0.9.* in /opt/anaconda3/lib/python3.12/site-packages (from httpx==0.13.3->googletrans==4.0.0-rc1) (0.9.1)\n",
      "Requirement already satisfied: h11<0.10,>=0.8 in /opt/anaconda3/lib/python3.12/site-packages (from httpcore==0.9.*->httpx==0.13.3->googletrans==4.0.0-rc1) (0.9.0)\n",
      "Requirement already satisfied: h2==3.* in /opt/anaconda3/lib/python3.12/site-packages (from httpcore==0.9.*->httpx==0.13.3->googletrans==4.0.0-rc1) (3.2.0)\n",
      "Requirement already satisfied: hyperframe<6,>=5.2.0 in /opt/anaconda3/lib/python3.12/site-packages (from h2==3.*->httpcore==0.9.*->httpx==0.13.3->googletrans==4.0.0-rc1) (5.2.0)\n",
      "Requirement already satisfied: hpack<4,>=3.0 in /opt/anaconda3/lib/python3.12/site-packages (from h2==3.*->httpcore==0.9.*->httpx==0.13.3->googletrans==4.0.0-rc1) (3.0.0)\n",
      "Requirement already satisfied: numpy>=1.26.0 in /opt/anaconda3/lib/python3.12/site-packages (from pandas) (1.26.4)\n",
      "Requirement already satisfied: python-dateutil>=2.8.2 in /opt/anaconda3/lib/python3.12/site-packages (from pandas) (2.9.0.post0)\n",
      "Requirement already satisfied: pytz>=2020.1 in /opt/anaconda3/lib/python3.12/site-packages (from pandas) (2024.1)\n",
      "Requirement already satisfied: tzdata>=2022.7 in /opt/anaconda3/lib/python3.12/site-packages (from pandas) (2023.3)\n",
      "Requirement already satisfied: six in /opt/anaconda3/lib/python3.12/site-packages (from langdetect) (1.16.0)\n",
      "Note: you may need to restart the kernel to use updated packages.\n"
     ]
    }
   ],
   "source": [
    "pip install pandas googletrans==4.0.0-rc1 langdetect"
   ]
  },
  {
   "cell_type": "code",
   "execution_count": null,
   "id": "ae80e50a-e44a-4629-afee-799d129e6c59",
   "metadata": {},
   "outputs": [],
   "source": [
    "df = pd.read_csv(\"Google-playstore.csv\")\n",
    "\n",
    "# Display basic info\n",
    "print(df.info())\n",
    "\n",
    "# Check for missing values\n",
    "print(df.isnull().sum())\n",
    "\n",
    "# Check for duplicates\n",
    "print(\"Duplicate rows:\", df.duplicated().sum())\n",
    "\n",
    "# Display first few rows\n",
    "df.head()"
   ]
  },
  {
   "cell_type": "code",
   "execution_count": 6,
   "id": "4225f37c-ba67-4429-9798-6ca24954b450",
   "metadata": {},
   "outputs": [
    {
     "data": {
      "text/plain": [
       "(2312944, 24)"
      ]
     },
     "execution_count": 6,
     "metadata": {},
     "output_type": "execute_result"
    }
   ],
   "source": [
    "df.shape"
   ]
  },
  {
   "cell_type": "code",
   "execution_count": 7,
   "id": "0a5ebb3e-1a5c-4fb3-8e91-becb7e74e62f",
   "metadata": {},
   "outputs": [
    {
     "data": {
      "text/plain": [
       "<bound method DataFrame.info of                                                   App Name  \\\n",
       "0                                                  Gakondo   \n",
       "1                                      Ampere Battery Info   \n",
       "2                                                   Vibook   \n",
       "3        Smart City Trichy Public Service Vehicles 17UC...   \n",
       "4                                                  GROW.me   \n",
       "...                                                    ...   \n",
       "2312939                                           大俠客—熱血歸來   \n",
       "2312940                                         ORU Online   \n",
       "2312941                                     Data Structure   \n",
       "2312942                                        Devi Suktam   \n",
       "2312943                       Biliyor Musun - Sonsuz Yarış   \n",
       "\n",
       "                                       App Id       Category  Rating  \\\n",
       "0                         com.ishakwe.gakondo      Adventure     0.0   \n",
       "1                  com.webserveis.batteryinfo          Tools     4.4   \n",
       "2                        com.doantiepvien.crm   Productivity     0.0   \n",
       "3                     cst.stJoseph.ug17ucs548  Communication     5.0   \n",
       "4                        com.horodyski.grower          Tools     0.0   \n",
       "...                                       ...            ...     ...   \n",
       "2312939                         com.rxsj.ssjj   Role Playing     4.3   \n",
       "2312940              com.threedream.oruonline      Education     0.0   \n",
       "2312941  datastructure.appoworld.datastucture      Education     0.0   \n",
       "2312942                     ishan.devi.suktam  Music & Audio     3.5   \n",
       "2312943             com.yyazilim.biliyormusun         Trivia     5.0   \n",
       "\n",
       "         Rating Count  Installs  Minimum Installs  Maximum Installs  Free  \\\n",
       "0                 0.0       10+              10.0                15  True   \n",
       "1                64.0    5,000+            5000.0              7662  True   \n",
       "2                 0.0       50+              50.0                58  True   \n",
       "3                 5.0       10+              10.0                19  True   \n",
       "4                 0.0      100+             100.0               478  True   \n",
       "...               ...       ...               ...               ...   ...   \n",
       "2312939       16775.0  100,000+          100000.0            337109  True   \n",
       "2312940           0.0      100+             100.0               430  True   \n",
       "2312941           0.0      100+             100.0               202  True   \n",
       "2312942           8.0    1,000+            1000.0              2635  True   \n",
       "2312943          12.0      100+             100.0               354  True   \n",
       "\n",
       "         Price  ...                  Developer Website  \\\n",
       "0          0.0  ...        https://beniyizibyose.tk/#/   \n",
       "1          0.0  ...    https://webserveis.netlify.app/   \n",
       "2          0.0  ...                                NaN   \n",
       "3          0.0  ...   http://www.climatesmarttech.com/   \n",
       "4          0.0  ...        http://www.horodyski.com.pl   \n",
       "...        ...  ...                                ...   \n",
       "2312939    0.0  ...          http://www.4399sy.com.hk/   \n",
       "2312940    0.0  ...                http://www.oru.edu/   \n",
       "2312941    0.0  ...                                NaN   \n",
       "2312942    0.0  ...  https://a70f78905.app-ads-txt.com   \n",
       "2312943    0.0  ...                                NaN   \n",
       "\n",
       "                      Developer Email      Released  Last Updated  \\\n",
       "0              jean21101999@gmail.com  Feb 26, 2020  Feb 26, 2020   \n",
       "1                webserveis@gmail.com  May 21, 2020  May 06, 2021   \n",
       "2                 vnacrewit@gmail.com   Aug 9, 2019  Aug 19, 2019   \n",
       "3         climatesmarttech2@gmail.com  Sep 10, 2018  Oct 13, 2018   \n",
       "4           rmilekhorodyski@gmail.com  Feb 21, 2020  Nov 12, 2018   \n",
       "...                               ...           ...           ...   \n",
       "2312939           ssjjcomhk@gmail.com           NaN  Jun 01, 2021   \n",
       "2312940     3DreamDeveloper@gmail.com  Jan 17, 2018  Feb 02, 2018   \n",
       "2312941  appoworld.official@gmail.com  Aug 19, 2018  Aug 19, 2018   \n",
       "2312942           ruchisono@gmail.com   Aug 1, 2016  May 05, 2021   \n",
       "2312943     yyazilimdevelop@gmail.com   Aug 9, 2019  Aug 19, 2019   \n",
       "\n",
       "        Content Rating                                     Privacy Policy  \\\n",
       "0             Everyone                 https://beniyizibyose.tk/projects/   \n",
       "1             Everyone  https://dev4phones.wordpress.com/licencia-de-uso/   \n",
       "2             Everyone  https://www.vietnamairlines.com/vn/en/terms-an...   \n",
       "3             Everyone                                                NaN   \n",
       "4             Everyone                        http://www.horodyski.com.pl   \n",
       "...                ...                                                ...   \n",
       "2312939           Teen             http://a.4399sy.com.hk/user/aggreement   \n",
       "2312940       Everyone    http://www.oru.edu/about-oru/privacy-policy.php   \n",
       "2312941       Everyone  https://appoworld.000webhostapp.com/datastruct...   \n",
       "2312942       Everyone  https://docs.google.com/document/d/1x-9reZuLRX...   \n",
       "2312943       Everyone  https://biliyor-musun-sons.flycricket.io/priva...   \n",
       "\n",
       "        Ad Supported In App Purchases Editors Choice         Scraped Time  \n",
       "0              False            False          False  2021-06-15 20:19:35  \n",
       "1               True            False          False  2021-06-15 20:19:35  \n",
       "2              False            False          False  2021-06-15 20:19:35  \n",
       "3               True            False          False  2021-06-15 20:19:35  \n",
       "4              False            False          False  2021-06-15 20:19:35  \n",
       "...              ...              ...            ...                  ...  \n",
       "2312939        False            False          False  2021-06-16 12:59:18  \n",
       "2312940        False            False          False  2021-06-16 12:59:19  \n",
       "2312941        False            False          False  2021-06-16 12:59:19  \n",
       "2312942         True            False          False  2021-06-16 12:59:19  \n",
       "2312943         True            False          False  2021-06-16 12:59:19  \n",
       "\n",
       "[2312944 rows x 24 columns]>"
      ]
     },
     "execution_count": 7,
     "metadata": {},
     "output_type": "execute_result"
    }
   ],
   "source": [
    "df.info"
   ]
  },
  {
   "cell_type": "code",
   "execution_count": 8,
   "id": "d5e174ef-bada-441e-93ab-d803ebd4cffe",
   "metadata": {},
   "outputs": [
    {
     "data": {
      "text/plain": [
       "0"
      ]
     },
     "execution_count": 8,
     "metadata": {},
     "output_type": "execute_result"
    }
   ],
   "source": [
    "df.duplicated().sum()"
   ]
  },
  {
   "cell_type": "code",
   "execution_count": 9,
   "id": "b26f26e1-e35a-4d9b-be5a-83dc8f934c59",
   "metadata": {},
   "outputs": [
    {
     "name": "stdout",
     "output_type": "stream",
     "text": [
      "App Name                  5\n",
      "App Id                    0\n",
      "Category                  0\n",
      "Rating                22883\n",
      "Rating Count          22883\n",
      "Installs                107\n",
      "Minimum Installs        107\n",
      "Maximum Installs          0\n",
      "Free                      0\n",
      "Price                     0\n",
      "Currency                135\n",
      "Size                    196\n",
      "Minimum Android        6530\n",
      "Developer Id             33\n",
      "Developer Website    760835\n",
      "Developer Email          31\n",
      "Released              71053\n",
      "Last Updated              0\n",
      "Content Rating            0\n",
      "Privacy Policy       420953\n",
      "Ad Supported              0\n",
      "In App Purchases          0\n",
      "Editors Choice            0\n",
      "Scraped Time              0\n",
      "dtype: int64\n"
     ]
    }
   ],
   "source": [
    "print(df.isnull().sum())"
   ]
  },
  {
   "cell_type": "code",
   "execution_count": 10,
   "id": "163f2e51-b47c-4dd8-827b-e202705f9d1b",
   "metadata": {},
   "outputs": [
    {
     "name": "stdout",
     "output_type": "stream",
     "text": [
      "App Name              0.000216\n",
      "App Id                0.000000\n",
      "Category              0.000000\n",
      "Rating                0.989345\n",
      "Rating Count          0.989345\n",
      "Installs              0.004626\n",
      "Minimum Installs      0.004626\n",
      "Maximum Installs      0.000000\n",
      "Free                  0.000000\n",
      "Price                 0.000000\n",
      "Currency              0.005837\n",
      "Size                  0.008474\n",
      "Minimum Android       0.282324\n",
      "Developer Id          0.001427\n",
      "Developer Website    32.894657\n",
      "Developer Email       0.001340\n",
      "Released              3.071972\n",
      "Last Updated          0.000000\n",
      "Content Rating        0.000000\n",
      "Privacy Policy       18.199879\n",
      "Ad Supported          0.000000\n",
      "In App Purchases      0.000000\n",
      "Editors Choice        0.000000\n",
      "Scraped Time          0.000000\n",
      "dtype: float64\n"
     ]
    }
   ],
   "source": [
    "missing_percentage = df.isnull().sum() / len(df) * 100\n",
    "print(missing_percentage)"
   ]
  },
  {
   "cell_type": "code",
   "execution_count": 11,
   "id": "29288b4c-65a9-480f-952c-17813a2d4d5b",
   "metadata": {},
   "outputs": [],
   "source": [
    "df.drop(columns=[\"Developer Website\", \"Privacy Policy\"], inplace=True)"
   ]
  },
  {
   "cell_type": "code",
   "execution_count": 12,
   "id": "e69616e8-9c22-43e2-a05f-975ee29912e5",
   "metadata": {},
   "outputs": [],
   "source": [
    "df.loc[:, \"Released\"] = df[\"Released\"].fillna(df[\"Released\"].mode()[0])\n",
    "df.loc[:, \"Minimum Android\"] = df[\"Minimum Android\"].fillna(df[\"Minimum Android\"].mode()[0])\n",
    "df.loc[:, \"Rating\"] = df[\"Rating\"].fillna(df[\"Rating\"].median())\n",
    "df.loc[:, \"Rating Count\"] = df[\"Rating Count\"].fillna(df[\"Rating Count\"].median())\n",
    "df.loc[:, \"Currency\"] = df[\"Currency\"].fillna(\"USD\")"
   ]
  },
  {
   "cell_type": "code",
   "execution_count": 13,
   "id": "d853084c-1422-4b5e-8d6e-4da889d45427",
   "metadata": {},
   "outputs": [
    {
     "name": "stdout",
     "output_type": "stream",
     "text": [
      "App Name              5\n",
      "App Id                0\n",
      "Category              0\n",
      "Rating                0\n",
      "Rating Count          0\n",
      "Installs            107\n",
      "Minimum Installs    107\n",
      "Maximum Installs      0\n",
      "Free                  0\n",
      "Price                 0\n",
      "Currency              0\n",
      "Size                196\n",
      "Minimum Android       0\n",
      "Developer Id         33\n",
      "Developer Email      31\n",
      "Released              0\n",
      "Last Updated          0\n",
      "Content Rating        0\n",
      "Ad Supported          0\n",
      "In App Purchases      0\n",
      "Editors Choice        0\n",
      "Scraped Time          0\n",
      "dtype: int64\n"
     ]
    }
   ],
   "source": [
    "print(df.isnull().sum())"
   ]
  },
  {
   "cell_type": "code",
   "execution_count": 14,
   "id": "aaa01664-e8eb-48bf-884d-f630544bd7e0",
   "metadata": {},
   "outputs": [],
   "source": [
    "df.loc[:, \"Developer Id\"] = df[\"Developer Id\"].fillna(\"Unknown Developer Id\")\n",
    "df.loc[:, \"Developer Email\"] = df[\"Developer Email\"].fillna(\"Unknown Email\")"
   ]
  },
  {
   "cell_type": "code",
   "execution_count": 15,
   "id": "a39ebe25-5d83-4375-a788-85c784f8e142",
   "metadata": {},
   "outputs": [],
   "source": [
    "df.dropna(inplace=True)"
   ]
  },
  {
   "cell_type": "code",
   "execution_count": 16,
   "id": "caf30f03-08af-46cc-9592-addd67a22731",
   "metadata": {},
   "outputs": [
    {
     "name": "stdout",
     "output_type": "stream",
     "text": [
      "App Name            0\n",
      "App Id              0\n",
      "Category            0\n",
      "Rating              0\n",
      "Rating Count        0\n",
      "Installs            0\n",
      "Minimum Installs    0\n",
      "Maximum Installs    0\n",
      "Free                0\n",
      "Price               0\n",
      "Currency            0\n",
      "Size                0\n",
      "Minimum Android     0\n",
      "Developer Id        0\n",
      "Developer Email     0\n",
      "Released            0\n",
      "Last Updated        0\n",
      "Content Rating      0\n",
      "Ad Supported        0\n",
      "In App Purchases    0\n",
      "Editors Choice      0\n",
      "Scraped Time        0\n",
      "dtype: int64\n"
     ]
    }
   ],
   "source": [
    "print(df.isnull().sum())"
   ]
  },
  {
   "cell_type": "code",
   "execution_count": 17,
   "id": "e5ba860c-c3a5-48d3-a20f-155293fc07c6",
   "metadata": {},
   "outputs": [
    {
     "name": "stdout",
     "output_type": "stream",
     "text": [
      "Requirement already satisfied: fasttext in /opt/anaconda3/lib/python3.12/site-packages (0.9.3)\n",
      "Requirement already satisfied: pybind11>=2.2 in /opt/anaconda3/lib/python3.12/site-packages (from fasttext) (2.13.6)\n",
      "Requirement already satisfied: setuptools>=0.7.0 in /opt/anaconda3/lib/python3.12/site-packages (from fasttext) (75.1.0)\n",
      "Requirement already satisfied: numpy in /opt/anaconda3/lib/python3.12/site-packages (from fasttext) (1.26.4)\n",
      "Note: you may need to restart the kernel to use updated packages.\n"
     ]
    }
   ],
   "source": [
    "pip install fasttext"
   ]
  },
  {
   "cell_type": "code",
   "execution_count": 18,
   "id": "3e8a244c-b518-403a-9cde-6cd221a6e2b4",
   "metadata": {},
   "outputs": [
    {
     "name": "stdout",
     "output_type": "stream",
     "text": [
      "Requirement already satisfied: langid in /opt/anaconda3/lib/python3.12/site-packages (1.1.6)\n",
      "Requirement already satisfied: numpy in /opt/anaconda3/lib/python3.12/site-packages (from langid) (1.26.4)\n",
      "Note: you may need to restart the kernel to use updated packages.\n"
     ]
    }
   ],
   "source": [
    "pip install langid"
   ]
  },
  {
   "cell_type": "code",
   "execution_count": null,
   "id": "ecc49daf-fbf6-424b-9b5e-b911d6d452c8",
   "metadata": {},
   "outputs": [],
   "source": [
    "from langdetect import detect\n",
    "from googletrans import Translator\n",
    "import pandas as pd\n",
    "from concurrent.futures import ThreadPoolExecutor\n",
    "\n",
    "# Initialize translator\n",
    "translator = Translator()\n",
    "\n",
    "# Function to detect and translate app names safely\n",
    "def detect_language(text):\n",
    "    try:\n",
    "        if not isinstance(text, str) or len(text.strip()) < 3:  # Ignore empty or very short strings\n",
    "            return \"en\"\n",
    "        return detect(text)\n",
    "    except:\n",
    "        return \"en\"  # Default to English if detection fails\n",
    "\n",
    "def translate_app_name(app_name):\n",
    "    try:\n",
    "        detected_lang = detect_language(app_name)  # Detect language safely\n",
    "        if detected_lang == \"en\":\n",
    "            return app_name  # Already English\n",
    "        translated = translator.translate(app_name, src=detected_lang, dest=\"en\")\n",
    "        return translated.text\n",
    "    except:\n",
    "        return app_name  # Return original if error occurs\n",
    "\n",
    "# Detect non-English app names first\n",
    "df[\"Detected_Lang\"] = df[\"App Name\"].astype(str).apply(detect_language)\n",
    "\n",
    "# Filter only non-English app names to translate\n",
    "non_english_apps = df[df[\"Detected_Lang\"] != \"en\"].copy()\n",
    "\n",
    "# Use ThreadPoolExecutor for parallel processing\n",
    "with ThreadPoolExecutor(max_workers=10) as executor:\n",
    "    non_english_apps[\"App Name Translated\"] = list(executor.map(translate_app_name, non_english_apps[\"App Name\"]))\n",
    "\n",
    "# Merge translations back into original dataframe\n",
    "df = df.merge(non_english_apps[[\"App Name\", \"App Name Translated\"]], on=\"App Name\", how=\"left\")\n",
    "\n",
    "# Fill missing values where translation was not needed\n",
    "df[\"App Name Translated\"].fillna(df[\"App Name\"], inplace=True)\n",
    "\n",
    "# Drop the temporary language detection column\n",
    "df.drop(columns=[\"Detected_Lang\"], inplace=True)\n",
    "\n",
    "print(df[[\"App Name\", \"App Name Translated\"]].head())\n"
   ]
  },
  {
   "cell_type": "code",
   "execution_count": null,
   "id": "68d9a1fa-afb7-4c8e-97b9-8a8d570ecd29",
   "metadata": {},
   "outputs": [],
   "source": []
  }
 ],
 "metadata": {
  "kernelspec": {
   "display_name": "Python [conda env:base] *",
   "language": "python",
   "name": "conda-base-py"
  },
  "language_info": {
   "codemirror_mode": {
    "name": "ipython",
    "version": 3
   },
   "file_extension": ".py",
   "mimetype": "text/x-python",
   "name": "python",
   "nbconvert_exporter": "python",
   "pygments_lexer": "ipython3",
   "version": "3.12.7"
  }
 },
 "nbformat": 4,
 "nbformat_minor": 5
}
