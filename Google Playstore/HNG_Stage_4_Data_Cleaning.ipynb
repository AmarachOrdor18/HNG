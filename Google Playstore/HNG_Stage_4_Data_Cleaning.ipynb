{
 "cells": [
  {
   "cell_type": "markdown",
   "id": "6c92f541-613a-49ed-809b-9e32412adb6c",
   "metadata": {
    "id": "6c92f541-613a-49ed-809b-9e32412adb6c"
   },
   "source": [
    "# CLEANING THE GOOGLE PLAYSTORE DATASET"
   ]
  },
  {
   "cell_type": "code",
   "execution_count": 2,
   "id": "88a30890-76c2-4570-816d-b5c8973f4338",
   "metadata": {
    "id": "88a30890-76c2-4570-816d-b5c8973f4338"
   },
   "outputs": [],
   "source": [
    "# Importing the libraries\n",
    "import re\n",
    "import pandas as pd\n",
    "import numpy as np\n",
    "import os"
   ]
  },
  {
   "cell_type": "code",
   "execution_count": 3,
   "id": "2e89ae10-06dd-4faf-9178-d06c61093746",
   "metadata": {},
   "outputs": [
    {
     "name": "stdout",
     "output_type": "stream",
     "text": [
      "Current Directory: C:\\Users\\Amarachi\\Documents\\HNG Data Analysis\\Task 4\n",
      "Files in Directory: ['.ipynb_checkpoints', 'appleAppData.csv', 'cleaned_appstore.csv', 'cleaned_googleplaystore.csv', 'Google-Playstore.csv', 'googleplaystore.csv', 'googleplaystore_user_reviews.csv', 'HNG_Stage_4_Data_Cleaning.ipynb', 'playstorereviews.csv']\n"
     ]
    }
   ],
   "source": [
    "current_directory = os.getcwd()\n",
    "print(\"Current Directory:\", current_directory)\n",
    "\n",
    "files = os.listdir()\n",
    "print(\"Files in Directory:\", files)"
   ]
  },
  {
   "cell_type": "code",
   "execution_count": 4,
   "id": "e02d6112-6791-4088-994a-e686c29fd029",
   "metadata": {
    "id": "e02d6112-6791-4088-994a-e686c29fd029"
   },
   "outputs": [],
   "source": [
    "# Importing the dataset\n",
    "data = pd.read_csv(\"Google-Playstore.csv\")"
   ]
  },
  {
   "cell_type": "markdown",
   "id": "HmR4a2cTDzL2",
   "metadata": {
    "id": "HmR4a2cTDzL2"
   },
   "source": [
    "- Initial Exploration of the Dataset"
   ]
  },
  {
   "cell_type": "code",
   "execution_count": 6,
   "id": "a82dbbad-d085-4053-a11e-23f6562cc402",
   "metadata": {
    "colab": {
     "base_uri": "https://localhost:8080/",
     "height": 836
    },
    "id": "a82dbbad-d085-4053-a11e-23f6562cc402",
    "outputId": "6d198d70-4d7a-465d-fbf3-0502587042d9"
   },
   "outputs": [
    {
     "data": {
      "text/plain": [
       "App Name              object\n",
       "App Id                object\n",
       "Category              object\n",
       "Rating               float64\n",
       "Rating Count         float64\n",
       "Installs              object\n",
       "Minimum Installs     float64\n",
       "Maximum Installs       int64\n",
       "Free                    bool\n",
       "Price                float64\n",
       "Currency              object\n",
       "Size                  object\n",
       "Minimum Android       object\n",
       "Developer Id          object\n",
       "Developer Website     object\n",
       "Developer Email       object\n",
       "Released              object\n",
       "Last Updated          object\n",
       "Content Rating        object\n",
       "Privacy Policy        object\n",
       "Ad Supported            bool\n",
       "In App Purchases        bool\n",
       "Editors Choice          bool\n",
       "Scraped Time          object\n",
       "dtype: object"
      ]
     },
     "execution_count": 6,
     "metadata": {},
     "output_type": "execute_result"
    }
   ],
   "source": [
    "# Check the datatypes of the columns\n",
    "data.dtypes"
   ]
  },
  {
   "cell_type": "code",
   "execution_count": 7,
   "id": "f6e4e100-4d20-4abd-9b6b-e0fab26b6176",
   "metadata": {
    "colab": {
     "base_uri": "https://localhost:8080/"
    },
    "id": "f6e4e100-4d20-4abd-9b6b-e0fab26b6176",
    "outputId": "72196982-94b4-45d6-fadd-7e0e5d57e425"
   },
   "outputs": [
    {
     "data": {
      "text/plain": [
       "(2312944, 24)"
      ]
     },
     "execution_count": 7,
     "metadata": {},
     "output_type": "execute_result"
    }
   ],
   "source": [
    "# Check the data shape\n",
    "data.shape"
   ]
  },
  {
   "cell_type": "code",
   "execution_count": 8,
   "id": "Ua4niy8tEAGm",
   "metadata": {
    "colab": {
     "base_uri": "https://localhost:8080/",
     "height": 498
    },
    "id": "Ua4niy8tEAGm",
    "outputId": "f06fc0eb-29eb-466d-942e-cc4f886780c2"
   },
   "outputs": [
    {
     "data": {
      "text/html": [
       "<div>\n",
       "<style scoped>\n",
       "    .dataframe tbody tr th:only-of-type {\n",
       "        vertical-align: middle;\n",
       "    }\n",
       "\n",
       "    .dataframe tbody tr th {\n",
       "        vertical-align: top;\n",
       "    }\n",
       "\n",
       "    .dataframe thead th {\n",
       "        text-align: right;\n",
       "    }\n",
       "</style>\n",
       "<table border=\"1\" class=\"dataframe\">\n",
       "  <thead>\n",
       "    <tr style=\"text-align: right;\">\n",
       "      <th></th>\n",
       "      <th>App Name</th>\n",
       "      <th>App Id</th>\n",
       "      <th>Category</th>\n",
       "      <th>Rating</th>\n",
       "      <th>Rating Count</th>\n",
       "      <th>Installs</th>\n",
       "      <th>Minimum Installs</th>\n",
       "      <th>Maximum Installs</th>\n",
       "      <th>Free</th>\n",
       "      <th>Price</th>\n",
       "      <th>...</th>\n",
       "      <th>Developer Website</th>\n",
       "      <th>Developer Email</th>\n",
       "      <th>Released</th>\n",
       "      <th>Last Updated</th>\n",
       "      <th>Content Rating</th>\n",
       "      <th>Privacy Policy</th>\n",
       "      <th>Ad Supported</th>\n",
       "      <th>In App Purchases</th>\n",
       "      <th>Editors Choice</th>\n",
       "      <th>Scraped Time</th>\n",
       "    </tr>\n",
       "  </thead>\n",
       "  <tbody>\n",
       "    <tr>\n",
       "      <th>0</th>\n",
       "      <td>Gakondo</td>\n",
       "      <td>com.ishakwe.gakondo</td>\n",
       "      <td>Adventure</td>\n",
       "      <td>0.0</td>\n",
       "      <td>0.0</td>\n",
       "      <td>10+</td>\n",
       "      <td>10.0</td>\n",
       "      <td>15</td>\n",
       "      <td>True</td>\n",
       "      <td>0.0</td>\n",
       "      <td>...</td>\n",
       "      <td>https://beniyizibyose.tk/#/</td>\n",
       "      <td>jean21101999@gmail.com</td>\n",
       "      <td>Feb 26, 2020</td>\n",
       "      <td>Feb 26, 2020</td>\n",
       "      <td>Everyone</td>\n",
       "      <td>https://beniyizibyose.tk/projects/</td>\n",
       "      <td>False</td>\n",
       "      <td>False</td>\n",
       "      <td>False</td>\n",
       "      <td>2021-06-15 20:19:35</td>\n",
       "    </tr>\n",
       "    <tr>\n",
       "      <th>1</th>\n",
       "      <td>Ampere Battery Info</td>\n",
       "      <td>com.webserveis.batteryinfo</td>\n",
       "      <td>Tools</td>\n",
       "      <td>4.4</td>\n",
       "      <td>64.0</td>\n",
       "      <td>5,000+</td>\n",
       "      <td>5000.0</td>\n",
       "      <td>7662</td>\n",
       "      <td>True</td>\n",
       "      <td>0.0</td>\n",
       "      <td>...</td>\n",
       "      <td>https://webserveis.netlify.app/</td>\n",
       "      <td>webserveis@gmail.com</td>\n",
       "      <td>May 21, 2020</td>\n",
       "      <td>May 06, 2021</td>\n",
       "      <td>Everyone</td>\n",
       "      <td>https://dev4phones.wordpress.com/licencia-de-uso/</td>\n",
       "      <td>True</td>\n",
       "      <td>False</td>\n",
       "      <td>False</td>\n",
       "      <td>2021-06-15 20:19:35</td>\n",
       "    </tr>\n",
       "    <tr>\n",
       "      <th>2</th>\n",
       "      <td>Vibook</td>\n",
       "      <td>com.doantiepvien.crm</td>\n",
       "      <td>Productivity</td>\n",
       "      <td>0.0</td>\n",
       "      <td>0.0</td>\n",
       "      <td>50+</td>\n",
       "      <td>50.0</td>\n",
       "      <td>58</td>\n",
       "      <td>True</td>\n",
       "      <td>0.0</td>\n",
       "      <td>...</td>\n",
       "      <td>NaN</td>\n",
       "      <td>vnacrewit@gmail.com</td>\n",
       "      <td>Aug 9, 2019</td>\n",
       "      <td>Aug 19, 2019</td>\n",
       "      <td>Everyone</td>\n",
       "      <td>https://www.vietnamairlines.com/vn/en/terms-an...</td>\n",
       "      <td>False</td>\n",
       "      <td>False</td>\n",
       "      <td>False</td>\n",
       "      <td>2021-06-15 20:19:35</td>\n",
       "    </tr>\n",
       "    <tr>\n",
       "      <th>3</th>\n",
       "      <td>Smart City Trichy Public Service Vehicles 17UC...</td>\n",
       "      <td>cst.stJoseph.ug17ucs548</td>\n",
       "      <td>Communication</td>\n",
       "      <td>5.0</td>\n",
       "      <td>5.0</td>\n",
       "      <td>10+</td>\n",
       "      <td>10.0</td>\n",
       "      <td>19</td>\n",
       "      <td>True</td>\n",
       "      <td>0.0</td>\n",
       "      <td>...</td>\n",
       "      <td>http://www.climatesmarttech.com/</td>\n",
       "      <td>climatesmarttech2@gmail.com</td>\n",
       "      <td>Sep 10, 2018</td>\n",
       "      <td>Oct 13, 2018</td>\n",
       "      <td>Everyone</td>\n",
       "      <td>NaN</td>\n",
       "      <td>True</td>\n",
       "      <td>False</td>\n",
       "      <td>False</td>\n",
       "      <td>2021-06-15 20:19:35</td>\n",
       "    </tr>\n",
       "    <tr>\n",
       "      <th>4</th>\n",
       "      <td>GROW.me</td>\n",
       "      <td>com.horodyski.grower</td>\n",
       "      <td>Tools</td>\n",
       "      <td>0.0</td>\n",
       "      <td>0.0</td>\n",
       "      <td>100+</td>\n",
       "      <td>100.0</td>\n",
       "      <td>478</td>\n",
       "      <td>True</td>\n",
       "      <td>0.0</td>\n",
       "      <td>...</td>\n",
       "      <td>http://www.horodyski.com.pl</td>\n",
       "      <td>rmilekhorodyski@gmail.com</td>\n",
       "      <td>Feb 21, 2020</td>\n",
       "      <td>Nov 12, 2018</td>\n",
       "      <td>Everyone</td>\n",
       "      <td>http://www.horodyski.com.pl</td>\n",
       "      <td>False</td>\n",
       "      <td>False</td>\n",
       "      <td>False</td>\n",
       "      <td>2021-06-15 20:19:35</td>\n",
       "    </tr>\n",
       "  </tbody>\n",
       "</table>\n",
       "<p>5 rows × 24 columns</p>\n",
       "</div>"
      ],
      "text/plain": [
       "                                            App Name  \\\n",
       "0                                            Gakondo   \n",
       "1                                Ampere Battery Info   \n",
       "2                                             Vibook   \n",
       "3  Smart City Trichy Public Service Vehicles 17UC...   \n",
       "4                                            GROW.me   \n",
       "\n",
       "                       App Id       Category  Rating  Rating Count Installs  \\\n",
       "0         com.ishakwe.gakondo      Adventure     0.0           0.0      10+   \n",
       "1  com.webserveis.batteryinfo          Tools     4.4          64.0   5,000+   \n",
       "2        com.doantiepvien.crm   Productivity     0.0           0.0      50+   \n",
       "3     cst.stJoseph.ug17ucs548  Communication     5.0           5.0      10+   \n",
       "4        com.horodyski.grower          Tools     0.0           0.0     100+   \n",
       "\n",
       "   Minimum Installs  Maximum Installs  Free  Price  ...  \\\n",
       "0              10.0                15  True    0.0  ...   \n",
       "1            5000.0              7662  True    0.0  ...   \n",
       "2              50.0                58  True    0.0  ...   \n",
       "3              10.0                19  True    0.0  ...   \n",
       "4             100.0               478  True    0.0  ...   \n",
       "\n",
       "                  Developer Website              Developer Email  \\\n",
       "0       https://beniyizibyose.tk/#/       jean21101999@gmail.com   \n",
       "1   https://webserveis.netlify.app/         webserveis@gmail.com   \n",
       "2                               NaN          vnacrewit@gmail.com   \n",
       "3  http://www.climatesmarttech.com/  climatesmarttech2@gmail.com   \n",
       "4       http://www.horodyski.com.pl    rmilekhorodyski@gmail.com   \n",
       "\n",
       "       Released  Last Updated Content Rating  \\\n",
       "0  Feb 26, 2020  Feb 26, 2020       Everyone   \n",
       "1  May 21, 2020  May 06, 2021       Everyone   \n",
       "2   Aug 9, 2019  Aug 19, 2019       Everyone   \n",
       "3  Sep 10, 2018  Oct 13, 2018       Everyone   \n",
       "4  Feb 21, 2020  Nov 12, 2018       Everyone   \n",
       "\n",
       "                                      Privacy Policy Ad Supported  \\\n",
       "0                 https://beniyizibyose.tk/projects/        False   \n",
       "1  https://dev4phones.wordpress.com/licencia-de-uso/         True   \n",
       "2  https://www.vietnamairlines.com/vn/en/terms-an...        False   \n",
       "3                                                NaN         True   \n",
       "4                        http://www.horodyski.com.pl        False   \n",
       "\n",
       "  In App Purchases Editors Choice         Scraped Time  \n",
       "0            False          False  2021-06-15 20:19:35  \n",
       "1            False          False  2021-06-15 20:19:35  \n",
       "2            False          False  2021-06-15 20:19:35  \n",
       "3            False          False  2021-06-15 20:19:35  \n",
       "4            False          False  2021-06-15 20:19:35  \n",
       "\n",
       "[5 rows x 24 columns]"
      ]
     },
     "execution_count": 8,
     "metadata": {},
     "output_type": "execute_result"
    }
   ],
   "source": [
    "data.head()"
   ]
  },
  {
   "cell_type": "code",
   "execution_count": 9,
   "id": "1f8b96ac-2836-4105-a0d2-454f21b535fc",
   "metadata": {
    "colab": {
     "base_uri": "https://localhost:8080/"
    },
    "id": "1f8b96ac-2836-4105-a0d2-454f21b535fc",
    "outputId": "c1c84f4c-ea18-4986-ff02-a22bb4dc71ea"
   },
   "outputs": [
    {
     "name": "stdout",
     "output_type": "stream",
     "text": [
      "<class 'pandas.core.frame.DataFrame'>\n",
      "RangeIndex: 2312944 entries, 0 to 2312943\n",
      "Data columns (total 24 columns):\n",
      " #   Column             Dtype  \n",
      "---  ------             -----  \n",
      " 0   App Name           object \n",
      " 1   App Id             object \n",
      " 2   Category           object \n",
      " 3   Rating             float64\n",
      " 4   Rating Count       float64\n",
      " 5   Installs           object \n",
      " 6   Minimum Installs   float64\n",
      " 7   Maximum Installs   int64  \n",
      " 8   Free               bool   \n",
      " 9   Price              float64\n",
      " 10  Currency           object \n",
      " 11  Size               object \n",
      " 12  Minimum Android    object \n",
      " 13  Developer Id       object \n",
      " 14  Developer Website  object \n",
      " 15  Developer Email    object \n",
      " 16  Released           object \n",
      " 17  Last Updated       object \n",
      " 18  Content Rating     object \n",
      " 19  Privacy Policy     object \n",
      " 20  Ad Supported       bool   \n",
      " 21  In App Purchases   bool   \n",
      " 22  Editors Choice     bool   \n",
      " 23  Scraped Time       object \n",
      "dtypes: bool(4), float64(4), int64(1), object(15)\n",
      "memory usage: 361.8+ MB\n"
     ]
    }
   ],
   "source": [
    "# Check the columns information\n",
    "data.info()"
   ]
  },
  {
   "cell_type": "code",
   "execution_count": 10,
   "id": "8da923bc-1d6e-491d-ba02-0dd7cd5e6f6d",
   "metadata": {
    "colab": {
     "base_uri": "https://localhost:8080/",
     "height": 300
    },
    "id": "8da923bc-1d6e-491d-ba02-0dd7cd5e6f6d",
    "outputId": "633bd416-4d02-4b8b-b3d8-429b53d8e1b8"
   },
   "outputs": [
    {
     "data": {
      "text/html": [
       "<div>\n",
       "<style scoped>\n",
       "    .dataframe tbody tr th:only-of-type {\n",
       "        vertical-align: middle;\n",
       "    }\n",
       "\n",
       "    .dataframe tbody tr th {\n",
       "        vertical-align: top;\n",
       "    }\n",
       "\n",
       "    .dataframe thead th {\n",
       "        text-align: right;\n",
       "    }\n",
       "</style>\n",
       "<table border=\"1\" class=\"dataframe\">\n",
       "  <thead>\n",
       "    <tr style=\"text-align: right;\">\n",
       "      <th></th>\n",
       "      <th>Rating</th>\n",
       "      <th>Rating Count</th>\n",
       "      <th>Minimum Installs</th>\n",
       "      <th>Maximum Installs</th>\n",
       "      <th>Price</th>\n",
       "    </tr>\n",
       "  </thead>\n",
       "  <tbody>\n",
       "    <tr>\n",
       "      <th>count</th>\n",
       "      <td>2.290061e+06</td>\n",
       "      <td>2.290061e+06</td>\n",
       "      <td>2.312837e+06</td>\n",
       "      <td>2.312944e+06</td>\n",
       "      <td>2.312944e+06</td>\n",
       "    </tr>\n",
       "    <tr>\n",
       "      <th>mean</th>\n",
       "      <td>2.203152e+00</td>\n",
       "      <td>2.864839e+03</td>\n",
       "      <td>1.834452e+05</td>\n",
       "      <td>3.202017e+05</td>\n",
       "      <td>1.034992e-01</td>\n",
       "    </tr>\n",
       "    <tr>\n",
       "      <th>std</th>\n",
       "      <td>2.106223e+00</td>\n",
       "      <td>2.121626e+05</td>\n",
       "      <td>1.513144e+07</td>\n",
       "      <td>2.355495e+07</td>\n",
       "      <td>2.633127e+00</td>\n",
       "    </tr>\n",
       "    <tr>\n",
       "      <th>min</th>\n",
       "      <td>0.000000e+00</td>\n",
       "      <td>0.000000e+00</td>\n",
       "      <td>0.000000e+00</td>\n",
       "      <td>0.000000e+00</td>\n",
       "      <td>0.000000e+00</td>\n",
       "    </tr>\n",
       "    <tr>\n",
       "      <th>25%</th>\n",
       "      <td>0.000000e+00</td>\n",
       "      <td>0.000000e+00</td>\n",
       "      <td>5.000000e+01</td>\n",
       "      <td>8.400000e+01</td>\n",
       "      <td>0.000000e+00</td>\n",
       "    </tr>\n",
       "    <tr>\n",
       "      <th>50%</th>\n",
       "      <td>2.900000e+00</td>\n",
       "      <td>6.000000e+00</td>\n",
       "      <td>5.000000e+02</td>\n",
       "      <td>6.950000e+02</td>\n",
       "      <td>0.000000e+00</td>\n",
       "    </tr>\n",
       "    <tr>\n",
       "      <th>75%</th>\n",
       "      <td>4.300000e+00</td>\n",
       "      <td>4.200000e+01</td>\n",
       "      <td>5.000000e+03</td>\n",
       "      <td>7.354000e+03</td>\n",
       "      <td>0.000000e+00</td>\n",
       "    </tr>\n",
       "    <tr>\n",
       "      <th>max</th>\n",
       "      <td>5.000000e+00</td>\n",
       "      <td>1.385576e+08</td>\n",
       "      <td>1.000000e+10</td>\n",
       "      <td>1.205763e+10</td>\n",
       "      <td>4.000000e+02</td>\n",
       "    </tr>\n",
       "  </tbody>\n",
       "</table>\n",
       "</div>"
      ],
      "text/plain": [
       "             Rating  Rating Count  Minimum Installs  Maximum Installs  \\\n",
       "count  2.290061e+06  2.290061e+06      2.312837e+06      2.312944e+06   \n",
       "mean   2.203152e+00  2.864839e+03      1.834452e+05      3.202017e+05   \n",
       "std    2.106223e+00  2.121626e+05      1.513144e+07      2.355495e+07   \n",
       "min    0.000000e+00  0.000000e+00      0.000000e+00      0.000000e+00   \n",
       "25%    0.000000e+00  0.000000e+00      5.000000e+01      8.400000e+01   \n",
       "50%    2.900000e+00  6.000000e+00      5.000000e+02      6.950000e+02   \n",
       "75%    4.300000e+00  4.200000e+01      5.000000e+03      7.354000e+03   \n",
       "max    5.000000e+00  1.385576e+08      1.000000e+10      1.205763e+10   \n",
       "\n",
       "              Price  \n",
       "count  2.312944e+06  \n",
       "mean   1.034992e-01  \n",
       "std    2.633127e+00  \n",
       "min    0.000000e+00  \n",
       "25%    0.000000e+00  \n",
       "50%    0.000000e+00  \n",
       "75%    0.000000e+00  \n",
       "max    4.000000e+02  "
      ]
     },
     "execution_count": 10,
     "metadata": {},
     "output_type": "execute_result"
    }
   ],
   "source": [
    "# Check the decriptive statistics of the data\n",
    "data.describe()"
   ]
  },
  {
   "cell_type": "code",
   "execution_count": 11,
   "id": "005a6877-1b01-47c7-97c9-036a68dc4922",
   "metadata": {
    "colab": {
     "base_uri": "https://localhost:8080/",
     "height": 241
    },
    "id": "005a6877-1b01-47c7-97c9-036a68dc4922",
    "outputId": "bcd5e6dc-fbf9-4224-ec38-1dfd146fd4cc"
   },
   "outputs": [
    {
     "data": {
      "text/plain": [
       "0    5\n",
       "1    4\n",
       "2    5\n",
       "3    6\n",
       "4    5\n",
       "Name: Android_App_Age, dtype: int32"
      ]
     },
     "execution_count": 11,
     "metadata": {},
     "output_type": "execute_result"
    }
   ],
   "source": [
    "# Convert the date columns from object to datetime\n",
    "data['Released'] = pd.to_datetime(data['Released'])\n",
    "data['Last Updated'] = pd.to_datetime(data['Last Updated'])\n",
    "\n",
    "#Create a new column for the age of the apps on Google Playstore\n",
    "data['Released'] = data['Released'].dt.tz_localize(None)\n",
    "\n",
    "# Get current date as timezone-naive\n",
    "current_date = pd.to_datetime('today')\n",
    "\n",
    "# Calculate the difference (in years)\n",
    "data['Android_App_Age'] = ((current_date - data['Released']).dt.days // 365).fillna(0).astype(int)\n",
    "\n",
    "# Show the result\n",
    "data['Android_App_Age'].head()"
   ]
  },
  {
   "cell_type": "code",
   "execution_count": 12,
   "id": "667c2d0d-3593-4424-b0d6-9dedde56e36b",
   "metadata": {
    "colab": {
     "base_uri": "https://localhost:8080/"
    },
    "id": "667c2d0d-3593-4424-b0d6-9dedde56e36b",
    "outputId": "74f36eb3-fe3d-4bae-b623-6d40db17d18d"
   },
   "outputs": [
    {
     "data": {
      "text/plain": [
       "0"
      ]
     },
     "execution_count": 12,
     "metadata": {},
     "output_type": "execute_result"
    }
   ],
   "source": [
    "# Check for duplicate values\n",
    "data.duplicated().sum()"
   ]
  },
  {
   "cell_type": "code",
   "execution_count": 13,
   "id": "a92e069e-b5c3-4ed1-9ad4-ceb9d8d23471",
   "metadata": {
    "colab": {
     "base_uri": "https://localhost:8080/",
     "height": 868
    },
    "id": "a92e069e-b5c3-4ed1-9ad4-ceb9d8d23471",
    "outputId": "47a4ee23-b833-4dea-da3a-a5071477f1db"
   },
   "outputs": [
    {
     "data": {
      "text/plain": [
       "App Name                  5\n",
       "App Id                    0\n",
       "Category                  0\n",
       "Rating                22883\n",
       "Rating Count          22883\n",
       "Installs                107\n",
       "Minimum Installs        107\n",
       "Maximum Installs          0\n",
       "Free                      0\n",
       "Price                     0\n",
       "Currency                135\n",
       "Size                    196\n",
       "Minimum Android        6530\n",
       "Developer Id             33\n",
       "Developer Website    760835\n",
       "Developer Email          31\n",
       "Released              71053\n",
       "Last Updated              0\n",
       "Content Rating            0\n",
       "Privacy Policy       420953\n",
       "Ad Supported              0\n",
       "In App Purchases          0\n",
       "Editors Choice            0\n",
       "Scraped Time              0\n",
       "Android_App_Age           0\n",
       "dtype: int64"
      ]
     },
     "execution_count": 13,
     "metadata": {},
     "output_type": "execute_result"
    }
   ],
   "source": [
    "# Check for missing values\n",
    "data.isnull().sum()"
   ]
  },
  {
   "cell_type": "code",
   "execution_count": 14,
   "id": "caffd287-aeb8-4b65-af18-6fe41989fb46",
   "metadata": {
    "colab": {
     "base_uri": "https://localhost:8080/",
     "height": 115
    },
    "id": "caffd287-aeb8-4b65-af18-6fe41989fb46",
    "outputId": "d093217d-a315-4710-ecaa-6584d56c832b"
   },
   "outputs": [
    {
     "data": {
      "text/plain": [
       "0    Gakondo\n",
       "Name: Playstore_App, dtype: object"
      ]
     },
     "execution_count": 14,
     "metadata": {},
     "output_type": "execute_result"
    }
   ],
   "source": [
    "# Cleaning the App Name Column\n",
    "def comprehensive_clean(text, app_id):\n",
    "    # Ensure the value is a string\n",
    "    if not isinstance(text, str):\n",
    "        text = str(text)\n",
    "\n",
    "    # Remove non-ASCII characters\n",
    "    text = re.sub(r'[^\\x00-\\x7F]+', '', text)\n",
    "    # Remove special characters (except spaces)\n",
    "    text = re.sub(r'[^a-zA-Z0-9\\s]', '', text)\n",
    "    # Remove Chinese and Arabic characters\n",
    "    text = re.sub(r'[\\u4e00-\\u9fff\\u0600-\\u06FF]', '', text)\n",
    "\n",
    "    # If cleaned text is empty, extract the word after the first dot in App Id\n",
    "    if not text.strip():  # Check if the cleaned text is empty\n",
    "        if isinstance(app_id, str):\n",
    "            # Extract the word after the first dot\n",
    "            match = re.search(r'\\.([a-zA-Z0-9]+)', app_id)\n",
    "            if match:\n",
    "                return match.group(1)  # Return the word after the first dot\n",
    "    return text\n",
    "\n",
    "# Apply the function to 'App Name' column, using 'App Id' as a fallback\n",
    "data['Playstore_App'] = data.apply(lambda row: comprehensive_clean(row['App Name'], row['App Id']), axis=1)\n",
    "data['Playstore_App'].head(1)"
   ]
  },
  {
   "cell_type": "code",
   "execution_count": 15,
   "id": "292dfb36-d00f-47c4-a464-7998ae5d101e",
   "metadata": {
    "colab": {
     "base_uri": "https://localhost:8080/",
     "height": 146
    },
    "id": "292dfb36-d00f-47c4-a464-7998ae5d101e",
    "outputId": "64e5541a-9dc7-40d7-ea9e-6759a0d655cd"
   },
   "outputs": [
    {
     "data": {
      "text/plain": [
       "Rating          0\n",
       "Rating Count    0\n",
       "dtype: int64"
      ]
     },
     "execution_count": 15,
     "metadata": {},
     "output_type": "execute_result"
    }
   ],
   "source": [
    "# Addressing the missing values in Rating and Rating Count by Imputation\n",
    "columns_to_impute = ['Rating', 'Rating Count']\n",
    "\n",
    "for col in columns_to_impute:\n",
    "    data[col] = pd.to_numeric(data[col], errors='coerce')  # Convert to numeric, forcing errors to NaN\n",
    "\n",
    "# Replace missing values with the column mean\n",
    "data[columns_to_impute] = data[columns_to_impute].apply(lambda x: x.fillna(x.mean()))\n",
    "\n",
    "# Print the updated DataFrame\n",
    "data[columns_to_impute].isnull().sum()"
   ]
  },
  {
   "cell_type": "code",
   "execution_count": 16,
   "id": "3e136bec-8f0f-48dd-a864-064ba2975406",
   "metadata": {
    "colab": {
     "base_uri": "https://localhost:8080/",
     "height": 146
    },
    "id": "3e136bec-8f0f-48dd-a864-064ba2975406",
    "outputId": "7921b857-c6f1-4520-810a-4fcf95d656a6"
   },
   "outputs": [
    {
     "data": {
      "text/plain": [
       "Installs            0\n",
       "Minimum Installs    0\n",
       "dtype: int64"
      ]
     },
     "execution_count": 16,
     "metadata": {},
     "output_type": "execute_result"
    }
   ],
   "source": [
    "# Replacing the null values in Installs with Maximum Installs\n",
    "data['Installs'] = data['Installs'].fillna(data['Maximum Installs'])\n",
    "\n",
    "# Fill the blank values in Minimum Installs with 0\n",
    "data['Minimum Installs'] = data['Minimum Installs'].fillna(0)\n",
    "\n",
    "data[['Installs', 'Minimum Installs']].isnull().sum()"
   ]
  },
  {
   "cell_type": "code",
   "execution_count": 17,
   "id": "ntrDchd1M8nk",
   "metadata": {
    "colab": {
     "base_uri": "https://localhost:8080/"
    },
    "id": "ntrDchd1M8nk",
    "outputId": "36a170a0-b2d4-4867-fc47-9459de955244"
   },
   "outputs": [
    {
     "name": "stdout",
     "output_type": "stream",
     "text": [
      "Installs\n",
      "100+               443369\n",
      "1,000+             398212\n",
      "10+                300164\n",
      "10,000+            256736\n",
      "500+               189081\n",
      "50+                170466\n",
      "5,000+             143601\n",
      "100,000+           110263\n",
      "50,000+             75367\n",
      "5+                  73775\n",
      "1+                  65385\n",
      "1,000,000+          33652\n",
      "500,000+            27012\n",
      "0+                  11566\n",
      "5,000,000+           6595\n",
      "10,000,000+          6192\n",
      "50,000,000+           824\n",
      "100,000,000+          549\n",
      "500,000,000+           65\n",
      "1,000,000,000+         55\n",
      "5,000,000,000+         14\n",
      "10,000,000,000+         1\n",
      "Name: count, dtype: int64\n"
     ]
    }
   ],
   "source": [
    "#Categorizing the Installs Column\n",
    "def categorize_installs(value):\n",
    "    if isinstance(value, str) and '+' in value:\n",
    "        return value  # Keep values that already have '+'\n",
    "\n",
    "    try:\n",
    "        value = int(value)  # Convert numeric values\n",
    "        if value < 5:\n",
    "            return '1+'\n",
    "        elif value < 10:\n",
    "            return '5+'\n",
    "        elif value < 50:\n",
    "            return '10+'\n",
    "        elif value < 100:\n",
    "            return '50+'\n",
    "        elif value < 500:\n",
    "            return '100+'\n",
    "        elif value < 1_000:\n",
    "            return '500+'\n",
    "        elif value < 5_000:\n",
    "            return '1,000+'\n",
    "        elif value < 10_000:\n",
    "            return '5,000+'\n",
    "        elif value < 50_000:\n",
    "            return '10,000+'\n",
    "        elif value < 100_000:\n",
    "            return '50,000+'\n",
    "        elif value < 500_000:\n",
    "            return '100,000+'\n",
    "        elif value < 1_000_000:\n",
    "            return '500,000+'\n",
    "        elif value < 5_000_000:\n",
    "            return '1,000,000+'\n",
    "        elif value < 10_000_000:\n",
    "            return '5,000,000+'\n",
    "        elif value < 50_000_000:\n",
    "            return '10,000,000+'\n",
    "        elif value < 100_000_000:\n",
    "            return '50,000,000+'\n",
    "        elif value < 500_000_000:\n",
    "            return '100,000,000+'\n",
    "        elif value < 1_000_000_000:\n",
    "            return '500,000,000+'\n",
    "        elif value < 5_000_000_000:\n",
    "            return '1,000,000,000+'\n",
    "        else:\n",
    "            return '5,000,000,000+'\n",
    "    except:\n",
    "        return 'Unknown'  # Catch any unexpected values\n",
    "\n",
    "# Apply the function to the \"Installs\" column\n",
    "data['Installs'] = data['Installs'].apply(categorize_installs)\n",
    "\n",
    "# Print result\n",
    "print(data['Installs'].value_counts())"
   ]
  },
  {
   "cell_type": "code",
   "execution_count": 18,
   "id": "m4sSYY0ngLs2",
   "metadata": {
    "colab": {
     "base_uri": "https://localhost:8080/",
     "height": 115
    },
    "id": "m4sSYY0ngLs2",
    "outputId": "e2fd3fd4-f883-4715-ac2e-b48aba62d451"
   },
   "outputs": [
    {
     "data": {
      "text/plain": [
       "0    10000000.0\n",
       "Name: Size, dtype: float64"
      ]
     },
     "execution_count": 18,
     "metadata": {},
     "output_type": "execute_result"
    }
   ],
   "source": [
    "# Handling the Size Xolumn\n",
    "def convert_size(size):\n",
    "    if isinstance(size, str):  # Ensure it's a string before processing\n",
    "        size = size.replace(\",\", \"\")  # Remove commas if present\n",
    "        if 'G' in size:\n",
    "            return float(size.replace('G', '')) * 1_000_000_000  # Convert GB to bytes\n",
    "        elif 'M' in size:\n",
    "            return float(size.replace('M', '')) * 1_000_000  # Convert MB to bytes\n",
    "        elif 'K' in size:\n",
    "            return float(size.replace('K', '')) * 1_000  # Convert KB to bytes\n",
    "        else:\n",
    "            return np.nan  # Return NaN for unexpected values like 'Varies with device'\n",
    "    return np.nan  # Ensure NaN for missing values\n",
    "\n",
    "# Apply conversion function\n",
    "data[\"Size\"] = data[\"Size\"].apply(convert_size)\n",
    "data['Size'].head(1)"
   ]
  },
  {
   "cell_type": "code",
   "execution_count": 19,
   "id": "c298dc51-b6c2-41d5-bf69-2dad2caf363b",
   "metadata": {
    "id": "c298dc51-b6c2-41d5-bf69-2dad2caf363b"
   },
   "outputs": [],
   "source": [
    "#Replacing missing values with \"Unknown\" for the remaining columns\n",
    "columns_to_replace = ['Currency', 'Size', 'Minimum Android', 'Developer Website', 'Developer Email', 'Privacy Policy', 'Developer Id']\n",
    "\n",
    "# Convert to string before replacing NaNs\n",
    "data[columns_to_replace] = data[columns_to_replace].astype(str).replace('nan', 'Unknown')\n",
    "\n",
    "# Alternatively, using fillna()\n",
    "data[columns_to_replace] = data[columns_to_replace].fillna(\"Unknown\")"
   ]
  },
  {
   "cell_type": "code",
   "execution_count": 20,
   "id": "kj4hmhgtNZ3j",
   "metadata": {
    "id": "kj4hmhgtNZ3j"
   },
   "outputs": [],
   "source": [
    "data = data.drop(columns=[\"App Name\", \"Scraped Time\", \"App Id\", \"Developer Id\", \"Developer Website\", \"Developer Email\", \"Privacy Policy\"])"
   ]
  },
  {
   "cell_type": "markdown",
   "id": "jxBb5CgHNKVW",
   "metadata": {
    "id": "jxBb5CgHNKVW"
   },
   "source": [
    "## FINAL RESULT"
   ]
  },
  {
   "cell_type": "code",
   "execution_count": 22,
   "id": "DxsQJ7wANN27",
   "metadata": {
    "colab": {
     "base_uri": "https://localhost:8080/",
     "height": 233
    },
    "id": "DxsQJ7wANN27",
    "outputId": "3316d1f6-0f54-4bb6-e6e9-701de8018ee5"
   },
   "outputs": [
    {
     "data": {
      "text/html": [
       "<div>\n",
       "<style scoped>\n",
       "    .dataframe tbody tr th:only-of-type {\n",
       "        vertical-align: middle;\n",
       "    }\n",
       "\n",
       "    .dataframe tbody tr th {\n",
       "        vertical-align: top;\n",
       "    }\n",
       "\n",
       "    .dataframe thead th {\n",
       "        text-align: right;\n",
       "    }\n",
       "</style>\n",
       "<table border=\"1\" class=\"dataframe\">\n",
       "  <thead>\n",
       "    <tr style=\"text-align: right;\">\n",
       "      <th></th>\n",
       "      <th>Category</th>\n",
       "      <th>Rating</th>\n",
       "      <th>Rating Count</th>\n",
       "      <th>Installs</th>\n",
       "      <th>Minimum Installs</th>\n",
       "      <th>Maximum Installs</th>\n",
       "      <th>Free</th>\n",
       "      <th>Price</th>\n",
       "      <th>Currency</th>\n",
       "      <th>Size</th>\n",
       "      <th>Minimum Android</th>\n",
       "      <th>Released</th>\n",
       "      <th>Last Updated</th>\n",
       "      <th>Content Rating</th>\n",
       "      <th>Ad Supported</th>\n",
       "      <th>In App Purchases</th>\n",
       "      <th>Editors Choice</th>\n",
       "      <th>Android_App_Age</th>\n",
       "      <th>Playstore_App</th>\n",
       "    </tr>\n",
       "  </thead>\n",
       "  <tbody>\n",
       "    <tr>\n",
       "      <th>0</th>\n",
       "      <td>Adventure</td>\n",
       "      <td>0.0</td>\n",
       "      <td>0.0</td>\n",
       "      <td>10+</td>\n",
       "      <td>10.0</td>\n",
       "      <td>15</td>\n",
       "      <td>True</td>\n",
       "      <td>0.0</td>\n",
       "      <td>USD</td>\n",
       "      <td>10000000.0</td>\n",
       "      <td>7.1 and up</td>\n",
       "      <td>2020-02-26</td>\n",
       "      <td>2020-02-26</td>\n",
       "      <td>Everyone</td>\n",
       "      <td>False</td>\n",
       "      <td>False</td>\n",
       "      <td>False</td>\n",
       "      <td>5</td>\n",
       "      <td>Gakondo</td>\n",
       "    </tr>\n",
       "    <tr>\n",
       "      <th>1</th>\n",
       "      <td>Tools</td>\n",
       "      <td>4.4</td>\n",
       "      <td>64.0</td>\n",
       "      <td>5,000+</td>\n",
       "      <td>5000.0</td>\n",
       "      <td>7662</td>\n",
       "      <td>True</td>\n",
       "      <td>0.0</td>\n",
       "      <td>USD</td>\n",
       "      <td>2900000.0</td>\n",
       "      <td>5.0 and up</td>\n",
       "      <td>2020-05-21</td>\n",
       "      <td>2021-05-06</td>\n",
       "      <td>Everyone</td>\n",
       "      <td>True</td>\n",
       "      <td>False</td>\n",
       "      <td>False</td>\n",
       "      <td>4</td>\n",
       "      <td>Ampere Battery Info</td>\n",
       "    </tr>\n",
       "    <tr>\n",
       "      <th>2</th>\n",
       "      <td>Productivity</td>\n",
       "      <td>0.0</td>\n",
       "      <td>0.0</td>\n",
       "      <td>50+</td>\n",
       "      <td>50.0</td>\n",
       "      <td>58</td>\n",
       "      <td>True</td>\n",
       "      <td>0.0</td>\n",
       "      <td>USD</td>\n",
       "      <td>3700000.0</td>\n",
       "      <td>4.0.3 and up</td>\n",
       "      <td>2019-08-09</td>\n",
       "      <td>2019-08-19</td>\n",
       "      <td>Everyone</td>\n",
       "      <td>False</td>\n",
       "      <td>False</td>\n",
       "      <td>False</td>\n",
       "      <td>5</td>\n",
       "      <td>Vibook</td>\n",
       "    </tr>\n",
       "  </tbody>\n",
       "</table>\n",
       "</div>"
      ],
      "text/plain": [
       "       Category  Rating  Rating Count Installs  Minimum Installs  \\\n",
       "0     Adventure     0.0           0.0      10+              10.0   \n",
       "1         Tools     4.4          64.0   5,000+            5000.0   \n",
       "2  Productivity     0.0           0.0      50+              50.0   \n",
       "\n",
       "   Maximum Installs  Free  Price Currency        Size Minimum Android  \\\n",
       "0                15  True    0.0      USD  10000000.0      7.1 and up   \n",
       "1              7662  True    0.0      USD   2900000.0      5.0 and up   \n",
       "2                58  True    0.0      USD   3700000.0    4.0.3 and up   \n",
       "\n",
       "    Released Last Updated Content Rating  Ad Supported  In App Purchases  \\\n",
       "0 2020-02-26   2020-02-26       Everyone         False             False   \n",
       "1 2020-05-21   2021-05-06       Everyone          True             False   \n",
       "2 2019-08-09   2019-08-19       Everyone         False             False   \n",
       "\n",
       "   Editors Choice  Android_App_Age        Playstore_App  \n",
       "0           False                5              Gakondo  \n",
       "1           False                4  Ampere Battery Info  \n",
       "2           False                5               Vibook  "
      ]
     },
     "execution_count": 22,
     "metadata": {},
     "output_type": "execute_result"
    }
   ],
   "source": [
    "data.head(3)"
   ]
  },
  {
   "cell_type": "markdown",
   "id": "UkvU_lhldQ8R",
   "metadata": {
    "id": "UkvU_lhldQ8R"
   },
   "source": [
    "# CLEANING THE APPLE STORE DATASET\n"
   ]
  },
  {
   "cell_type": "code",
   "execution_count": 24,
   "id": "1f2e86a6-a1e3-4f63-8b75-a379f0d0fb7e",
   "metadata": {
    "id": "1f2e86a6-a1e3-4f63-8b75-a379f0d0fb7e"
   },
   "outputs": [],
   "source": [
    "# Load the Apple App Store data\n",
    "apple = pd.read_csv(\"appleAppData.csv\")"
   ]
  },
  {
   "cell_type": "markdown",
   "id": "j8Y6YSaoOO3n",
   "metadata": {
    "id": "j8Y6YSaoOO3n"
   },
   "source": [
    "- Initial Data Exploration\n"
   ]
  },
  {
   "cell_type": "code",
   "execution_count": 26,
   "id": "GpDy57r6OK9T",
   "metadata": {
    "colab": {
     "base_uri": "https://localhost:8080/",
     "height": 245
    },
    "id": "GpDy57r6OK9T",
    "outputId": "d43307d1-a873-4abf-dc48-5fff9cdcb2af"
   },
   "outputs": [
    {
     "data": {
      "text/html": [
       "<div>\n",
       "<style scoped>\n",
       "    .dataframe tbody tr th:only-of-type {\n",
       "        vertical-align: middle;\n",
       "    }\n",
       "\n",
       "    .dataframe tbody tr th {\n",
       "        vertical-align: top;\n",
       "    }\n",
       "\n",
       "    .dataframe thead th {\n",
       "        text-align: right;\n",
       "    }\n",
       "</style>\n",
       "<table border=\"1\" class=\"dataframe\">\n",
       "  <thead>\n",
       "    <tr style=\"text-align: right;\">\n",
       "      <th></th>\n",
       "      <th>App_Id</th>\n",
       "      <th>App_Name</th>\n",
       "      <th>AppStore_Url</th>\n",
       "      <th>Primary_Genre</th>\n",
       "      <th>Content_Rating</th>\n",
       "      <th>Size_Bytes</th>\n",
       "      <th>Required_IOS_Version</th>\n",
       "      <th>Released</th>\n",
       "      <th>Updated</th>\n",
       "      <th>Version</th>\n",
       "      <th>...</th>\n",
       "      <th>Currency</th>\n",
       "      <th>Free</th>\n",
       "      <th>DeveloperId</th>\n",
       "      <th>Developer</th>\n",
       "      <th>Developer_Url</th>\n",
       "      <th>Developer_Website</th>\n",
       "      <th>Average_User_Rating</th>\n",
       "      <th>Reviews</th>\n",
       "      <th>Current_Version_Score</th>\n",
       "      <th>Current_Version_Reviews</th>\n",
       "    </tr>\n",
       "  </thead>\n",
       "  <tbody>\n",
       "    <tr>\n",
       "      <th>0</th>\n",
       "      <td>com.hkbu.arc.apaper</td>\n",
       "      <td>A+ Paper Guide</td>\n",
       "      <td>https://apps.apple.com/us/app/a-paper-guide/id...</td>\n",
       "      <td>Education</td>\n",
       "      <td>4+</td>\n",
       "      <td>21993472.0</td>\n",
       "      <td>8.0</td>\n",
       "      <td>2017-09-28T03:02:41Z</td>\n",
       "      <td>2018-12-21T21:30:36Z</td>\n",
       "      <td>1.1.2</td>\n",
       "      <td>...</td>\n",
       "      <td>USD</td>\n",
       "      <td>True</td>\n",
       "      <td>1375410542</td>\n",
       "      <td>HKBU ARC</td>\n",
       "      <td>https://apps.apple.com/us/developer/hkbu-arc/i...</td>\n",
       "      <td>NaN</td>\n",
       "      <td>0.0</td>\n",
       "      <td>0</td>\n",
       "      <td>0.0</td>\n",
       "      <td>0</td>\n",
       "    </tr>\n",
       "    <tr>\n",
       "      <th>1</th>\n",
       "      <td>com.dmitriev.abooks</td>\n",
       "      <td>A-Books</td>\n",
       "      <td>https://apps.apple.com/us/app/a-books/id103157...</td>\n",
       "      <td>Book</td>\n",
       "      <td>4+</td>\n",
       "      <td>13135872.0</td>\n",
       "      <td>10.0</td>\n",
       "      <td>2015-08-31T19:31:32Z</td>\n",
       "      <td>2019-07-23T20:31:09Z</td>\n",
       "      <td>1.3</td>\n",
       "      <td>...</td>\n",
       "      <td>USD</td>\n",
       "      <td>True</td>\n",
       "      <td>1031572001</td>\n",
       "      <td>Roman Dmitriev</td>\n",
       "      <td>https://apps.apple.com/us/developer/roman-dmit...</td>\n",
       "      <td>NaN</td>\n",
       "      <td>5.0</td>\n",
       "      <td>1</td>\n",
       "      <td>5.0</td>\n",
       "      <td>1</td>\n",
       "    </tr>\n",
       "    <tr>\n",
       "      <th>2</th>\n",
       "      <td>no.terp.abooks</td>\n",
       "      <td>A-books</td>\n",
       "      <td>https://apps.apple.com/us/app/a-books/id145702...</td>\n",
       "      <td>Book</td>\n",
       "      <td>4+</td>\n",
       "      <td>21943296.0</td>\n",
       "      <td>9.0</td>\n",
       "      <td>2021-04-14T07:00:00Z</td>\n",
       "      <td>2021-05-30T21:08:54Z</td>\n",
       "      <td>1.3.1</td>\n",
       "      <td>...</td>\n",
       "      <td>USD</td>\n",
       "      <td>True</td>\n",
       "      <td>1457024163</td>\n",
       "      <td>Terp AS</td>\n",
       "      <td>https://apps.apple.com/us/developer/terp-as/id...</td>\n",
       "      <td>NaN</td>\n",
       "      <td>0.0</td>\n",
       "      <td>0</td>\n",
       "      <td>0.0</td>\n",
       "      <td>0</td>\n",
       "    </tr>\n",
       "  </tbody>\n",
       "</table>\n",
       "<p>3 rows × 21 columns</p>\n",
       "</div>"
      ],
      "text/plain": [
       "                App_Id        App_Name  \\\n",
       "0  com.hkbu.arc.apaper  A+ Paper Guide   \n",
       "1  com.dmitriev.abooks         A-Books   \n",
       "2       no.terp.abooks         A-books   \n",
       "\n",
       "                                        AppStore_Url Primary_Genre  \\\n",
       "0  https://apps.apple.com/us/app/a-paper-guide/id...     Education   \n",
       "1  https://apps.apple.com/us/app/a-books/id103157...          Book   \n",
       "2  https://apps.apple.com/us/app/a-books/id145702...          Book   \n",
       "\n",
       "  Content_Rating  Size_Bytes Required_IOS_Version              Released  \\\n",
       "0             4+  21993472.0                  8.0  2017-09-28T03:02:41Z   \n",
       "1             4+  13135872.0                 10.0  2015-08-31T19:31:32Z   \n",
       "2             4+  21943296.0                  9.0  2021-04-14T07:00:00Z   \n",
       "\n",
       "                Updated Version  ...  Currency  Free  DeveloperId  \\\n",
       "0  2018-12-21T21:30:36Z   1.1.2  ...       USD  True   1375410542   \n",
       "1  2019-07-23T20:31:09Z     1.3  ...       USD  True   1031572001   \n",
       "2  2021-05-30T21:08:54Z   1.3.1  ...       USD  True   1457024163   \n",
       "\n",
       "        Developer                                      Developer_Url  \\\n",
       "0        HKBU ARC  https://apps.apple.com/us/developer/hkbu-arc/i...   \n",
       "1  Roman Dmitriev  https://apps.apple.com/us/developer/roman-dmit...   \n",
       "2         Terp AS  https://apps.apple.com/us/developer/terp-as/id...   \n",
       "\n",
       "  Developer_Website Average_User_Rating  Reviews  Current_Version_Score  \\\n",
       "0               NaN                 0.0        0                    0.0   \n",
       "1               NaN                 5.0        1                    5.0   \n",
       "2               NaN                 0.0        0                    0.0   \n",
       "\n",
       "   Current_Version_Reviews  \n",
       "0                        0  \n",
       "1                        1  \n",
       "2                        0  \n",
       "\n",
       "[3 rows x 21 columns]"
      ]
     },
     "execution_count": 26,
     "metadata": {},
     "output_type": "execute_result"
    }
   ],
   "source": [
    "apple.head(3)"
   ]
  },
  {
   "cell_type": "code",
   "execution_count": 27,
   "id": "dd3f6be5-b562-4a47-b292-fe16b100b8e7",
   "metadata": {
    "colab": {
     "base_uri": "https://localhost:8080/",
     "height": 742
    },
    "id": "dd3f6be5-b562-4a47-b292-fe16b100b8e7",
    "outputId": "ebf75f6a-3bbf-4fff-965b-926007b05e07"
   },
   "outputs": [
    {
     "data": {
      "text/plain": [
       "App_Id                          0\n",
       "App_Name                        1\n",
       "AppStore_Url                    0\n",
       "Primary_Genre                   0\n",
       "Content_Rating                  0\n",
       "Size_Bytes                    224\n",
       "Required_IOS_Version            0\n",
       "Released                        3\n",
       "Updated                         0\n",
       "Version                         0\n",
       "Price                         490\n",
       "Currency                        0\n",
       "Free                            0\n",
       "DeveloperId                     0\n",
       "Developer                       0\n",
       "Developer_Url                1109\n",
       "Developer_Website          643988\n",
       "Average_User_Rating             0\n",
       "Reviews                         0\n",
       "Current_Version_Score           0\n",
       "Current_Version_Reviews         0\n",
       "dtype: int64"
      ]
     },
     "execution_count": 27,
     "metadata": {},
     "output_type": "execute_result"
    }
   ],
   "source": [
    "# Check for blank values in the apple data\n",
    "apple.isnull().sum()"
   ]
  },
  {
   "cell_type": "code",
   "execution_count": 28,
   "id": "6002a4d5-4198-47b4-b1bc-d8fadb0d3b38",
   "metadata": {
    "colab": {
     "base_uri": "https://localhost:8080/"
    },
    "id": "6002a4d5-4198-47b4-b1bc-d8fadb0d3b38",
    "outputId": "4c89ebb4-bdf4-45d9-f91e-21f1931713ac"
   },
   "outputs": [
    {
     "data": {
      "text/plain": [
       "0"
      ]
     },
     "execution_count": 28,
     "metadata": {},
     "output_type": "execute_result"
    }
   ],
   "source": [
    "#Check for duplicates\n",
    "apple.duplicated().sum()"
   ]
  },
  {
   "cell_type": "code",
   "execution_count": 29,
   "id": "9d896b7b-7936-4b6f-b573-74e80bda34db",
   "metadata": {
    "colab": {
     "base_uri": "https://localhost:8080/"
    },
    "id": "9d896b7b-7936-4b6f-b573-74e80bda34db",
    "outputId": "83fe052b-784b-4d3d-fc90-732c243fd144"
   },
   "outputs": [
    {
     "data": {
      "text/plain": [
       "(1230376, 21)"
      ]
     },
     "execution_count": 29,
     "metadata": {},
     "output_type": "execute_result"
    }
   ],
   "source": [
    "# Check the dataset shape\n",
    "apple.shape"
   ]
  },
  {
   "cell_type": "markdown",
   "id": "Norj8bUaOlFM",
   "metadata": {
    "id": "Norj8bUaOlFM"
   },
   "source": [
    "- Data Cleaning"
   ]
  },
  {
   "cell_type": "code",
   "execution_count": 31,
   "id": "-K4ZVfe8e8KA",
   "metadata": {
    "colab": {
     "base_uri": "https://localhost:8080/",
     "height": 288
    },
    "id": "-K4ZVfe8e8KA",
    "outputId": "d2df7fc8-8b1d-4ecd-88d4-4f6e460316ac"
   },
   "outputs": [
    {
     "name": "stdout",
     "output_type": "stream",
     "text": [
      "Size_Bytes    0\n",
      "Price         0\n",
      "dtype: int64\n"
     ]
    }
   ],
   "source": [
    "\n",
    "# Handle missing values in Size_Bytes column with median\n",
    "median_size = apple['Size_Bytes'].median()\n",
    "apple.loc[:, 'Size_Bytes'] = apple['Size_Bytes'].fillna(median_size)\n",
    "\n",
    "# Handle missing values in Price column based on the Free column\n",
    "median_price = apple['Price'].median()\n",
    "apple.loc[:, 'Price'] = apple.apply(\n",
    "    lambda row: 0 if row['Free'] else (median_price if pd.isnull(row['Price']) else row['Price']),\n",
    "    axis=1\n",
    ")\n",
    "\n",
    "# Check the result\n",
    "print(apple[[\"Size_Bytes\", \"Price\"]].isnull().sum())\n"
   ]
  },
  {
   "cell_type": "code",
   "execution_count": 32,
   "id": "qkJ8q6qLPATM",
   "metadata": {
    "colab": {
     "base_uri": "https://localhost:8080/"
    },
    "id": "qkJ8q6qLPATM",
    "outputId": "c517d75b-86e8-4201-8865-cb0e962c1b32"
   },
   "outputs": [
    {
     "name": "stdout",
     "output_type": "stream",
     "text": [
      "['Everyone' 'Mature 17+' 'Everyone 10+' 'Teen' 'Unrated']\n",
      "['Everyone' 'Teen' 'Mature 17+' 'Everyone 10+' 'Adults only 18+' 'Unrated']\n"
     ]
    }
   ],
   "source": [
    "# Mapping the rating columns from the two datasets\n",
    "rating_mapping = {\n",
    "    '4+': 'Everyone',\n",
    "    '9+': 'Everyone 10+',\n",
    "    '12+': 'Teen',\n",
    "    '17+': 'Mature 17+',\n",
    "    'Not yet rated': 'Unrated'\n",
    "}\n",
    "\n",
    "# Apply the mapping to the Apple dataset\n",
    "apple[\"Content_Rating\"] = apple[\"Content_Rating\"].replace(rating_mapping)\n",
    "\n",
    "# Now both datasets have the same rating categories\n",
    "print(apple[\"Content_Rating\"].unique())\n",
    "print(data[\"Content Rating\"].unique())"
   ]
  },
  {
   "cell_type": "code",
   "execution_count": 33,
   "id": "KIE5S6WQQAst",
   "metadata": {
    "colab": {
     "base_uri": "https://localhost:8080/",
     "height": 178
    },
    "id": "KIE5S6WQQAst",
    "outputId": "6d4a888a-6e55-43b3-e8a4-9c3fec39f1b1"
   },
   "outputs": [
    {
     "data": {
      "text/plain": [
       "0    7\n",
       "1    9\n",
       "2    3\n",
       "Name: Apple_App_Age, dtype: int32"
      ]
     },
     "execution_count": 33,
     "metadata": {},
     "output_type": "execute_result"
    }
   ],
   "source": [
    "#Convert the release date and updated date in apple data to datetime\n",
    "apple['Released'] = pd.to_datetime(apple['Released'])\n",
    "apple['Updated'] = pd.to_datetime(apple['Updated'])\n",
    "\n",
    "#Creating App Age Columns for the App Store Applications\n",
    "apple['Released'] = apple['Released'].dt.tz_localize(None)\n",
    "\n",
    "# Get current date as timezone-naive\n",
    "current_date = pd.to_datetime('today')\n",
    "\n",
    "# Calculate the difference (in years)\n",
    "apple['Apple_App_Age'] = ((current_date - apple['Released']).dt.days // 365).fillna(0).astype(int)\n",
    "\n",
    "# Show the result\n",
    "apple['Apple_App_Age'].head(3)"
   ]
  },
  {
   "cell_type": "code",
   "execution_count": 34,
   "id": "c31f35a8-1560-4cc2-b1cd-092d025e4ec2",
   "metadata": {},
   "outputs": [],
   "source": [
    "apple.rename(columns={'Primary_Genre': 'Category'}, inplace=True)"
   ]
  },
  {
   "cell_type": "code",
   "execution_count": 35,
   "id": "0Oc8EUVDwsta",
   "metadata": {
    "id": "0Oc8EUVDwsta"
   },
   "outputs": [],
   "source": [
    "#Dropping Unnecessary Columns\n",
    "apple = apple.drop(columns=[\"App_Id\", \"AppStore_Url\", \"Required_IOS_Version\", \"Version\", \"DeveloperId\", \"Developer_Url\", \"Developer_Website\", \"Current_Version_Score\",\n",
    "                            \"Current_Version_Reviews\"])\n"
   ]
  },
  {
   "cell_type": "markdown",
   "id": "hiWxhdFESBnz",
   "metadata": {
    "id": "hiWxhdFESBnz"
   },
   "source": [
    "# FINAL RESULT"
   ]
  },
  {
   "cell_type": "code",
   "execution_count": 37,
   "id": "0839bf48-534c-4fc7-b889-a725d4a0322e",
   "metadata": {
    "colab": {
     "base_uri": "https://localhost:8080/",
     "height": 264
    },
    "id": "0839bf48-534c-4fc7-b889-a725d4a0322e",
    "outputId": "7d74ea05-7983-4515-a3d1-b4431464fd19"
   },
   "outputs": [
    {
     "data": {
      "text/html": [
       "<div>\n",
       "<style scoped>\n",
       "    .dataframe tbody tr th:only-of-type {\n",
       "        vertical-align: middle;\n",
       "    }\n",
       "\n",
       "    .dataframe tbody tr th {\n",
       "        vertical-align: top;\n",
       "    }\n",
       "\n",
       "    .dataframe thead th {\n",
       "        text-align: right;\n",
       "    }\n",
       "</style>\n",
       "<table border=\"1\" class=\"dataframe\">\n",
       "  <thead>\n",
       "    <tr style=\"text-align: right;\">\n",
       "      <th></th>\n",
       "      <th>App_Name</th>\n",
       "      <th>Category</th>\n",
       "      <th>Content_Rating</th>\n",
       "      <th>Size_Bytes</th>\n",
       "      <th>Released</th>\n",
       "      <th>Updated</th>\n",
       "      <th>Price</th>\n",
       "      <th>Currency</th>\n",
       "      <th>Free</th>\n",
       "      <th>Developer</th>\n",
       "      <th>Average_User_Rating</th>\n",
       "      <th>Reviews</th>\n",
       "      <th>Apple_App_Age</th>\n",
       "    </tr>\n",
       "  </thead>\n",
       "  <tbody>\n",
       "    <tr>\n",
       "      <th>0</th>\n",
       "      <td>A+ Paper Guide</td>\n",
       "      <td>Education</td>\n",
       "      <td>Everyone</td>\n",
       "      <td>21993472.0</td>\n",
       "      <td>2017-09-28 03:02:41</td>\n",
       "      <td>2018-12-21 21:30:36+00:00</td>\n",
       "      <td>0.00</td>\n",
       "      <td>USD</td>\n",
       "      <td>True</td>\n",
       "      <td>HKBU ARC</td>\n",
       "      <td>0.0</td>\n",
       "      <td>0</td>\n",
       "      <td>7</td>\n",
       "    </tr>\n",
       "    <tr>\n",
       "      <th>1</th>\n",
       "      <td>A-Books</td>\n",
       "      <td>Book</td>\n",
       "      <td>Everyone</td>\n",
       "      <td>13135872.0</td>\n",
       "      <td>2015-08-31 19:31:32</td>\n",
       "      <td>2019-07-23 20:31:09+00:00</td>\n",
       "      <td>0.00</td>\n",
       "      <td>USD</td>\n",
       "      <td>True</td>\n",
       "      <td>Roman Dmitriev</td>\n",
       "      <td>5.0</td>\n",
       "      <td>1</td>\n",
       "      <td>9</td>\n",
       "    </tr>\n",
       "    <tr>\n",
       "      <th>2</th>\n",
       "      <td>A-books</td>\n",
       "      <td>Book</td>\n",
       "      <td>Everyone</td>\n",
       "      <td>21943296.0</td>\n",
       "      <td>2021-04-14 07:00:00</td>\n",
       "      <td>2021-05-30 21:08:54+00:00</td>\n",
       "      <td>0.00</td>\n",
       "      <td>USD</td>\n",
       "      <td>True</td>\n",
       "      <td>Terp AS</td>\n",
       "      <td>0.0</td>\n",
       "      <td>0</td>\n",
       "      <td>3</td>\n",
       "    </tr>\n",
       "    <tr>\n",
       "      <th>3</th>\n",
       "      <td>A-F Book #1</td>\n",
       "      <td>Book</td>\n",
       "      <td>Everyone</td>\n",
       "      <td>81851392.0</td>\n",
       "      <td>2012-02-10 03:40:07</td>\n",
       "      <td>2019-10-29 12:40:37+00:00</td>\n",
       "      <td>2.99</td>\n",
       "      <td>USD</td>\n",
       "      <td>False</td>\n",
       "      <td>i-editeur.com</td>\n",
       "      <td>0.0</td>\n",
       "      <td>0</td>\n",
       "      <td>13</td>\n",
       "    </tr>\n",
       "  </tbody>\n",
       "</table>\n",
       "</div>"
      ],
      "text/plain": [
       "         App_Name   Category Content_Rating  Size_Bytes            Released  \\\n",
       "0  A+ Paper Guide  Education       Everyone  21993472.0 2017-09-28 03:02:41   \n",
       "1         A-Books       Book       Everyone  13135872.0 2015-08-31 19:31:32   \n",
       "2         A-books       Book       Everyone  21943296.0 2021-04-14 07:00:00   \n",
       "3     A-F Book #1       Book       Everyone  81851392.0 2012-02-10 03:40:07   \n",
       "\n",
       "                    Updated  Price Currency   Free       Developer  \\\n",
       "0 2018-12-21 21:30:36+00:00   0.00      USD   True        HKBU ARC   \n",
       "1 2019-07-23 20:31:09+00:00   0.00      USD   True  Roman Dmitriev   \n",
       "2 2021-05-30 21:08:54+00:00   0.00      USD   True         Terp AS   \n",
       "3 2019-10-29 12:40:37+00:00   2.99      USD  False   i-editeur.com   \n",
       "\n",
       "   Average_User_Rating  Reviews  Apple_App_Age  \n",
       "0                  0.0        0              7  \n",
       "1                  5.0        1              9  \n",
       "2                  0.0        0              3  \n",
       "3                  0.0        0             13  "
      ]
     },
     "execution_count": 37,
     "metadata": {},
     "output_type": "execute_result"
    }
   ],
   "source": [
    "apple.head(4)"
   ]
  },
  {
   "cell_type": "markdown",
   "id": "-S1y-ShESQWf",
   "metadata": {
    "id": "-S1y-ShESQWf"
   },
   "source": [
    "# CLEANING THE REVIEWS DATASET"
   ]
  },
  {
   "cell_type": "code",
   "execution_count": 39,
   "id": "lenLn0Q932IY",
   "metadata": {
    "id": "lenLn0Q932IY"
   },
   "outputs": [],
   "source": [
    "review1 = pd.read_csv(\"googleplaystore.csv\")"
   ]
  },
  {
   "cell_type": "code",
   "execution_count": 40,
   "id": "Q9Ep5bO1CyZ9",
   "metadata": {
    "id": "Q9Ep5bO1CyZ9"
   },
   "outputs": [],
   "source": [
    "review2 = pd.read_csv(\"googleplaystore_user_reviews.csv\")"
   ]
  },
  {
   "cell_type": "code",
   "execution_count": 41,
   "id": "xSLbsfvd26_U",
   "metadata": {
    "id": "xSLbsfvd26_U"
   },
   "outputs": [],
   "source": [
    "review = review1.merge(review2, on='App', how='inner')"
   ]
  },
  {
   "cell_type": "code",
   "execution_count": 42,
   "id": "_5KZzt3YGFxX",
   "metadata": {
    "colab": {
     "base_uri": "https://localhost:8080/",
     "height": 288
    },
    "id": "_5KZzt3YGFxX",
    "outputId": "050870f0-67f9-4d19-ee44-01e6710dc8af"
   },
   "outputs": [
    {
     "data": {
      "text/html": [
       "<div>\n",
       "<style scoped>\n",
       "    .dataframe tbody tr th:only-of-type {\n",
       "        vertical-align: middle;\n",
       "    }\n",
       "\n",
       "    .dataframe tbody tr th {\n",
       "        vertical-align: top;\n",
       "    }\n",
       "\n",
       "    .dataframe thead th {\n",
       "        text-align: right;\n",
       "    }\n",
       "</style>\n",
       "<table border=\"1\" class=\"dataframe\">\n",
       "  <thead>\n",
       "    <tr style=\"text-align: right;\">\n",
       "      <th></th>\n",
       "      <th>Unnamed: 0</th>\n",
       "      <th>App</th>\n",
       "      <th>Category</th>\n",
       "      <th>Rating</th>\n",
       "      <th>Reviews</th>\n",
       "      <th>Size</th>\n",
       "      <th>Installs</th>\n",
       "      <th>Type</th>\n",
       "      <th>Price</th>\n",
       "      <th>Content Rating</th>\n",
       "      <th>Genres</th>\n",
       "      <th>Last Updated</th>\n",
       "      <th>Current Ver</th>\n",
       "      <th>Android Ver</th>\n",
       "      <th>Translated_Review</th>\n",
       "      <th>Sentiment</th>\n",
       "      <th>Sentiment_Polarity</th>\n",
       "      <th>Sentiment_Subjectivity</th>\n",
       "    </tr>\n",
       "  </thead>\n",
       "  <tbody>\n",
       "    <tr>\n",
       "      <th>0</th>\n",
       "      <td>1</td>\n",
       "      <td>Coloring book moana</td>\n",
       "      <td>ART_AND_DESIGN</td>\n",
       "      <td>3.9</td>\n",
       "      <td>967</td>\n",
       "      <td>14M</td>\n",
       "      <td>500,000+</td>\n",
       "      <td>Free</td>\n",
       "      <td>0</td>\n",
       "      <td>Everyone</td>\n",
       "      <td>Art &amp; Design;Pretend Play</td>\n",
       "      <td>15-Jan-18</td>\n",
       "      <td>2.0.0</td>\n",
       "      <td>4.0.3 and up</td>\n",
       "      <td>A kid's excessive ads. The types ads allowed a...</td>\n",
       "      <td>Negative</td>\n",
       "      <td>-0.250</td>\n",
       "      <td>1.000000</td>\n",
       "    </tr>\n",
       "    <tr>\n",
       "      <th>1</th>\n",
       "      <td>1</td>\n",
       "      <td>Coloring book moana</td>\n",
       "      <td>ART_AND_DESIGN</td>\n",
       "      <td>3.9</td>\n",
       "      <td>967</td>\n",
       "      <td>14M</td>\n",
       "      <td>500,000+</td>\n",
       "      <td>Free</td>\n",
       "      <td>0</td>\n",
       "      <td>Everyone</td>\n",
       "      <td>Art &amp; Design;Pretend Play</td>\n",
       "      <td>15-Jan-18</td>\n",
       "      <td>2.0.0</td>\n",
       "      <td>4.0.3 and up</td>\n",
       "      <td>It bad &gt;:(</td>\n",
       "      <td>Negative</td>\n",
       "      <td>-0.725</td>\n",
       "      <td>0.833333</td>\n",
       "    </tr>\n",
       "  </tbody>\n",
       "</table>\n",
       "</div>"
      ],
      "text/plain": [
       "   Unnamed: 0                  App        Category  Rating Reviews Size  \\\n",
       "0           1  Coloring book moana  ART_AND_DESIGN     3.9     967  14M   \n",
       "1           1  Coloring book moana  ART_AND_DESIGN     3.9     967  14M   \n",
       "\n",
       "   Installs  Type Price Content Rating                     Genres  \\\n",
       "0  500,000+  Free     0       Everyone  Art & Design;Pretend Play   \n",
       "1  500,000+  Free     0       Everyone  Art & Design;Pretend Play   \n",
       "\n",
       "  Last Updated Current Ver   Android Ver  \\\n",
       "0    15-Jan-18       2.0.0  4.0.3 and up   \n",
       "1    15-Jan-18       2.0.0  4.0.3 and up   \n",
       "\n",
       "                                   Translated_Review Sentiment  \\\n",
       "0  A kid's excessive ads. The types ads allowed a...  Negative   \n",
       "1                                         It bad >:(  Negative   \n",
       "\n",
       "   Sentiment_Polarity  Sentiment_Subjectivity  \n",
       "0              -0.250                1.000000  \n",
       "1              -0.725                0.833333  "
      ]
     },
     "execution_count": 42,
     "metadata": {},
     "output_type": "execute_result"
    }
   ],
   "source": [
    "review.head(2)"
   ]
  },
  {
   "cell_type": "code",
   "execution_count": 43,
   "id": "GiLKEVgXGN2t",
   "metadata": {
    "colab": {
     "base_uri": "https://localhost:8080/"
    },
    "id": "GiLKEVgXGN2t",
    "outputId": "02012209-e4e8-4fa0-902c-7990774fb90e"
   },
   "outputs": [
    {
     "data": {
      "text/plain": [
       "array(['ART_AND_DESIGN', 'AUTO_AND_VEHICLES', 'BEAUTY',\n",
       "       'BOOKS_AND_REFERENCE', 'BUSINESS', 'COMICS', 'COMMUNICATION',\n",
       "       'DATING', 'EDUCATION', 'ENTERTAINMENT', 'EVENTS', 'FINANCE',\n",
       "       'FOOD_AND_DRINK', 'HEALTH_AND_FITNESS', 'HOUSE_AND_HOME',\n",
       "       'LIBRARIES_AND_DEMO', 'LIFESTYLE', 'GAME', 'FAMILY', 'MEDICAL',\n",
       "       'SOCIAL', 'SHOPPING', 'PHOTOGRAPHY', 'SPORTS', 'TRAVEL_AND_LOCAL',\n",
       "       'TOOLS', 'PERSONALIZATION', 'PRODUCTIVITY', 'PARENTING', 'WEATHER',\n",
       "       'VIDEO_PLAYERS', 'NEWS_AND_MAGAZINES', 'MAPS_AND_NAVIGATION'],\n",
       "      dtype=object)"
      ]
     },
     "execution_count": 43,
     "metadata": {},
     "output_type": "execute_result"
    }
   ],
   "source": [
    "review['Category'].unique()"
   ]
  },
  {
   "cell_type": "code",
   "execution_count": 44,
   "id": "85e2b406-9744-43c9-af53-27ce1b073fdb",
   "metadata": {},
   "outputs": [
    {
     "name": "stdout",
     "output_type": "stream",
     "text": [
      "<class 'pandas.core.frame.DataFrame'>\n",
      "RangeIndex: 122662 entries, 0 to 122661\n",
      "Data columns (total 18 columns):\n",
      " #   Column                  Non-Null Count   Dtype  \n",
      "---  ------                  --------------   -----  \n",
      " 0   Unnamed: 0              122662 non-null  int64  \n",
      " 1   App                     122662 non-null  object \n",
      " 2   Category                122662 non-null  object \n",
      " 3   Rating                  122622 non-null  float64\n",
      " 4   Reviews                 122662 non-null  object \n",
      " 5   Size                    122662 non-null  object \n",
      " 6   Installs                122662 non-null  object \n",
      " 7   Type                    122662 non-null  object \n",
      " 8   Price                   122662 non-null  object \n",
      " 9   Content Rating          122662 non-null  object \n",
      " 10  Genres                  122662 non-null  object \n",
      " 11  Last Updated            122662 non-null  object \n",
      " 12  Current Ver             122662 non-null  object \n",
      " 13  Android Ver             122662 non-null  object \n",
      " 14  Translated_Review       72605 non-null   object \n",
      " 15  Sentiment               72615 non-null   object \n",
      " 16  Sentiment_Polarity      72615 non-null   float64\n",
      " 17  Sentiment_Subjectivity  72615 non-null   float64\n",
      "dtypes: float64(3), int64(1), object(14)\n",
      "memory usage: 16.8+ MB\n",
      "None\n",
      "Unnamed: 0                    0\n",
      "App                           0\n",
      "Category                      0\n",
      "Rating                       40\n",
      "Reviews                       0\n",
      "Size                          0\n",
      "Installs                      0\n",
      "Type                          0\n",
      "Price                         0\n",
      "Content Rating                0\n",
      "Genres                        0\n",
      "Last Updated                  0\n",
      "Current Ver                   0\n",
      "Android Ver                   0\n",
      "Translated_Review         50057\n",
      "Sentiment                 50047\n",
      "Sentiment_Polarity        50047\n",
      "Sentiment_Subjectivity    50047\n",
      "dtype: int64\n",
      "Duplicate rows: 74518\n"
     ]
    },
    {
     "data": {
      "text/html": [
       "<div>\n",
       "<style scoped>\n",
       "    .dataframe tbody tr th:only-of-type {\n",
       "        vertical-align: middle;\n",
       "    }\n",
       "\n",
       "    .dataframe tbody tr th {\n",
       "        vertical-align: top;\n",
       "    }\n",
       "\n",
       "    .dataframe thead th {\n",
       "        text-align: right;\n",
       "    }\n",
       "</style>\n",
       "<table border=\"1\" class=\"dataframe\">\n",
       "  <thead>\n",
       "    <tr style=\"text-align: right;\">\n",
       "      <th></th>\n",
       "      <th>Unnamed: 0</th>\n",
       "      <th>App</th>\n",
       "      <th>Category</th>\n",
       "      <th>Rating</th>\n",
       "      <th>Reviews</th>\n",
       "      <th>Size</th>\n",
       "      <th>Installs</th>\n",
       "      <th>Type</th>\n",
       "      <th>Price</th>\n",
       "      <th>Content Rating</th>\n",
       "      <th>Genres</th>\n",
       "      <th>Last Updated</th>\n",
       "      <th>Current Ver</th>\n",
       "      <th>Android Ver</th>\n",
       "      <th>Translated_Review</th>\n",
       "      <th>Sentiment</th>\n",
       "      <th>Sentiment_Polarity</th>\n",
       "      <th>Sentiment_Subjectivity</th>\n",
       "    </tr>\n",
       "  </thead>\n",
       "  <tbody>\n",
       "    <tr>\n",
       "      <th>0</th>\n",
       "      <td>1</td>\n",
       "      <td>Coloring book moana</td>\n",
       "      <td>ART_AND_DESIGN</td>\n",
       "      <td>3.9</td>\n",
       "      <td>967</td>\n",
       "      <td>14M</td>\n",
       "      <td>500,000+</td>\n",
       "      <td>Free</td>\n",
       "      <td>0</td>\n",
       "      <td>Everyone</td>\n",
       "      <td>Art &amp; Design;Pretend Play</td>\n",
       "      <td>15-Jan-18</td>\n",
       "      <td>2.0.0</td>\n",
       "      <td>4.0.3 and up</td>\n",
       "      <td>A kid's excessive ads. The types ads allowed a...</td>\n",
       "      <td>Negative</td>\n",
       "      <td>-0.250</td>\n",
       "      <td>1.000000</td>\n",
       "    </tr>\n",
       "    <tr>\n",
       "      <th>1</th>\n",
       "      <td>1</td>\n",
       "      <td>Coloring book moana</td>\n",
       "      <td>ART_AND_DESIGN</td>\n",
       "      <td>3.9</td>\n",
       "      <td>967</td>\n",
       "      <td>14M</td>\n",
       "      <td>500,000+</td>\n",
       "      <td>Free</td>\n",
       "      <td>0</td>\n",
       "      <td>Everyone</td>\n",
       "      <td>Art &amp; Design;Pretend Play</td>\n",
       "      <td>15-Jan-18</td>\n",
       "      <td>2.0.0</td>\n",
       "      <td>4.0.3 and up</td>\n",
       "      <td>It bad &gt;:(</td>\n",
       "      <td>Negative</td>\n",
       "      <td>-0.725</td>\n",
       "      <td>0.833333</td>\n",
       "    </tr>\n",
       "    <tr>\n",
       "      <th>2</th>\n",
       "      <td>1</td>\n",
       "      <td>Coloring book moana</td>\n",
       "      <td>ART_AND_DESIGN</td>\n",
       "      <td>3.9</td>\n",
       "      <td>967</td>\n",
       "      <td>14M</td>\n",
       "      <td>500,000+</td>\n",
       "      <td>Free</td>\n",
       "      <td>0</td>\n",
       "      <td>Everyone</td>\n",
       "      <td>Art &amp; Design;Pretend Play</td>\n",
       "      <td>15-Jan-18</td>\n",
       "      <td>2.0.0</td>\n",
       "      <td>4.0.3 and up</td>\n",
       "      <td>like</td>\n",
       "      <td>Neutral</td>\n",
       "      <td>0.000</td>\n",
       "      <td>0.000000</td>\n",
       "    </tr>\n",
       "    <tr>\n",
       "      <th>3</th>\n",
       "      <td>1</td>\n",
       "      <td>Coloring book moana</td>\n",
       "      <td>ART_AND_DESIGN</td>\n",
       "      <td>3.9</td>\n",
       "      <td>967</td>\n",
       "      <td>14M</td>\n",
       "      <td>500,000+</td>\n",
       "      <td>Free</td>\n",
       "      <td>0</td>\n",
       "      <td>Everyone</td>\n",
       "      <td>Art &amp; Design;Pretend Play</td>\n",
       "      <td>15-Jan-18</td>\n",
       "      <td>2.0.0</td>\n",
       "      <td>4.0.3 and up</td>\n",
       "      <td>NaN</td>\n",
       "      <td>NaN</td>\n",
       "      <td>NaN</td>\n",
       "      <td>NaN</td>\n",
       "    </tr>\n",
       "    <tr>\n",
       "      <th>4</th>\n",
       "      <td>1</td>\n",
       "      <td>Coloring book moana</td>\n",
       "      <td>ART_AND_DESIGN</td>\n",
       "      <td>3.9</td>\n",
       "      <td>967</td>\n",
       "      <td>14M</td>\n",
       "      <td>500,000+</td>\n",
       "      <td>Free</td>\n",
       "      <td>0</td>\n",
       "      <td>Everyone</td>\n",
       "      <td>Art &amp; Design;Pretend Play</td>\n",
       "      <td>15-Jan-18</td>\n",
       "      <td>2.0.0</td>\n",
       "      <td>4.0.3 and up</td>\n",
       "      <td>I love colors inspyering</td>\n",
       "      <td>Positive</td>\n",
       "      <td>0.500</td>\n",
       "      <td>0.600000</td>\n",
       "    </tr>\n",
       "  </tbody>\n",
       "</table>\n",
       "</div>"
      ],
      "text/plain": [
       "   Unnamed: 0                  App        Category  Rating Reviews Size  \\\n",
       "0           1  Coloring book moana  ART_AND_DESIGN     3.9     967  14M   \n",
       "1           1  Coloring book moana  ART_AND_DESIGN     3.9     967  14M   \n",
       "2           1  Coloring book moana  ART_AND_DESIGN     3.9     967  14M   \n",
       "3           1  Coloring book moana  ART_AND_DESIGN     3.9     967  14M   \n",
       "4           1  Coloring book moana  ART_AND_DESIGN     3.9     967  14M   \n",
       "\n",
       "   Installs  Type Price Content Rating                     Genres  \\\n",
       "0  500,000+  Free     0       Everyone  Art & Design;Pretend Play   \n",
       "1  500,000+  Free     0       Everyone  Art & Design;Pretend Play   \n",
       "2  500,000+  Free     0       Everyone  Art & Design;Pretend Play   \n",
       "3  500,000+  Free     0       Everyone  Art & Design;Pretend Play   \n",
       "4  500,000+  Free     0       Everyone  Art & Design;Pretend Play   \n",
       "\n",
       "  Last Updated Current Ver   Android Ver  \\\n",
       "0    15-Jan-18       2.0.0  4.0.3 and up   \n",
       "1    15-Jan-18       2.0.0  4.0.3 and up   \n",
       "2    15-Jan-18       2.0.0  4.0.3 and up   \n",
       "3    15-Jan-18       2.0.0  4.0.3 and up   \n",
       "4    15-Jan-18       2.0.0  4.0.3 and up   \n",
       "\n",
       "                                   Translated_Review Sentiment  \\\n",
       "0  A kid's excessive ads. The types ads allowed a...  Negative   \n",
       "1                                         It bad >:(  Negative   \n",
       "2                                               like   Neutral   \n",
       "3                                                NaN       NaN   \n",
       "4                           I love colors inspyering  Positive   \n",
       "\n",
       "   Sentiment_Polarity  Sentiment_Subjectivity  \n",
       "0              -0.250                1.000000  \n",
       "1              -0.725                0.833333  \n",
       "2               0.000                0.000000  \n",
       "3                 NaN                     NaN  \n",
       "4               0.500                0.600000  "
      ]
     },
     "execution_count": 44,
     "metadata": {},
     "output_type": "execute_result"
    }
   ],
   "source": [
    "# Display basic info\n",
    "print(review.info())\n",
    "\n",
    "# Check for missing values\n",
    "print(review.isnull().sum())\n",
    "\n",
    "# Check for duplicates\n",
    "print(\"Duplicate rows:\", review.duplicated().sum())\n",
    "\n",
    "# Display first few rows\n",
    "review.head()"
   ]
  },
  {
   "cell_type": "code",
   "execution_count": 45,
   "id": "b2c17631-1d6e-4c4b-b869-c4054a300519",
   "metadata": {},
   "outputs": [],
   "source": [
    "review.drop_duplicates(inplace=True)\n",
    "review.loc[:, \"Rating\"] = review[\"Rating\"].fillna(review[\"Rating\"].median())\n",
    "review.loc[:, \"Sentiment_Polarity\"] = review[\"Sentiment_Polarity\"].fillna(review[\"Sentiment_Polarity\"].mean())\n",
    "review.loc[:, \"Sentiment_Subjectivity\"] = review[\"Sentiment_Subjectivity\"].fillna(review[\"Sentiment_Subjectivity\"].mean())\n",
    "review.loc[:, \"Sentiment\"] = review[\"Sentiment\"].fillna(review[\"Sentiment\"].mode()[0])\n",
    "review.loc[:, \"Translated_Review\"] = review[\"Translated_Review\"].fillna(\"No Review\")"
   ]
  },
  {
   "cell_type": "code",
   "execution_count": 46,
   "id": "befe928d-c449-4273-9c67-ad04b488844c",
   "metadata": {},
   "outputs": [
    {
     "name": "stdout",
     "output_type": "stream",
     "text": [
      "Unnamed: 0                0\n",
      "App                       0\n",
      "Category                  0\n",
      "Rating                    0\n",
      "Reviews                   0\n",
      "Size                      0\n",
      "Installs                  0\n",
      "Type                      0\n",
      "Price                     0\n",
      "Content Rating            0\n",
      "Genres                    0\n",
      "Last Updated              0\n",
      "Current Ver               0\n",
      "Android Ver               0\n",
      "Translated_Review         0\n",
      "Sentiment                 0\n",
      "Sentiment_Polarity        0\n",
      "Sentiment_Subjectivity    0\n",
      "dtype: int64\n",
      "Duplicate rows: 0\n"
     ]
    }
   ],
   "source": [
    "# Check for missing values\n",
    "print(review.isnull().sum())\n",
    "\n",
    "# Check for duplicates\n",
    "print(\"Duplicate rows:\", review.duplicated().sum())"
   ]
  },
  {
   "cell_type": "code",
   "execution_count": 47,
   "id": "17c9d179-012e-4998-b028-08f7b3a1ce54",
   "metadata": {},
   "outputs": [],
   "source": [
    "# Convert all category names to lowercase\n",
    "data[\"Category\"] = data[\"Category\"].str.lower()\n",
    "review[\"Category\"] = review[\"Category\"].str.lower()\n",
    "apple[\"Category\"] = apple[\"Category\"].str.lower()"
   ]
  },
  {
   "cell_type": "code",
   "execution_count": 48,
   "id": "YBl3pvFaGbgD",
   "metadata": {
    "colab": {
     "base_uri": "https://localhost:8080/"
    },
    "id": "YBl3pvFaGbgD",
    "outputId": "640762ae-871c-4456-b30d-93a9b7b6e278"
   },
   "outputs": [
    {
     "name": "stdout",
     "output_type": "stream",
     "text": [
      "['art and design' 'auto and vehicles' 'lifestyle' 'books and reference'\n",
      " 'business' 'comics' 'social networking' 'education' 'entertainment'\n",
      " 'finance' 'food and drink' 'health and fitness' 'house and home'\n",
      " 'libraries and demo' 'games' 'family' 'medical' 'shopping'\n",
      " 'photo & video' 'sports' 'travel and local' 'utilities' 'personalization'\n",
      " 'productivity' 'weather' 'video players' 'news and magazines'\n",
      " 'maps and navigation']\n"
     ]
    }
   ],
   "source": [
    "review[\"Category\"] = review[\"Category\"].str.replace(\"_\", \" \")\n",
    "data[\"Category\"] = data[\"Category\"].str.replace(\"_\", \" \")\n",
    "\n",
    "# Mapping dictionary remains the same\n",
    "category_mapping = {\n",
    "    \"health_and_fitness\": \"health & fitness\",\n",
    "    \"communication\": \"social networking\",\n",
    "    \"education\": \"education\",\n",
    "    \"sports\": \"sports\",\n",
    "    \"lifestyle\": \"lifestyle\",\n",
    "    \"maps_and_navigation\": \"navigation\",\n",
    "    \"business\": \"business\",\n",
    "    \"social\": \"social networking\",\n",
    "    \"entertainment\": \"entertainment\",\n",
    "    \"medical\": \"medical\",\n",
    "    \"game\": \"games\",\n",
    "    \"books_and_reference\": \"book\",\n",
    "    \"food_and_drink\": \"food & drink\",\n",
    "    \"weather\": \"weather\",\n",
    "    \"news_and_magazines\": \"news\",\n",
    "    \"music\": \"music\",\n",
    "    \"travel_and_local\": \"travel\",\n",
    "    \"shopping\": \"shopping\",\n",
    "    \"art_and_design\": \"graphics & design\",\n",
    "    \"libraries_and_demo\": \"graphics & design\",\n",
    "    \"finance\": \"finance\",\n",
    "    \"productivity\": \"productivity\",\n",
    "    \"tools\": \"utilities\",\n",
    "    \"photography\": \"photo & video\",\n",
    "    \"video_players\": \"photo & video\",\n",
    "    \"dating\": \"social networking\",\n",
    "    \"house_and_home\": \"lifestyle\",\n",
    "    \"parenting\": \"lifestyle\",\n",
    "    \"events\": \"lifestyle\",\n",
    "    \"beauty\": \"lifestyle\"\n",
    "}\n",
    "\n",
    "# Apply mapping\n",
    "data[\"Category\"] = data[\"Category\"].replace(category_mapping)\n",
    "review[\"Category\"] = review[\"Category\"].replace(category_mapping)\n",
    "apple[\"Category\"] = apple[\"Category\"].replace(category_mapping)\n",
    "\n",
    "print(review[\"Category\"].unique())"
   ]
  },
  {
   "cell_type": "code",
   "execution_count": 49,
   "id": "QHFI1lD4GbjL",
   "metadata": {
    "id": "QHFI1lD4GbjL"
   },
   "outputs": [],
   "source": [
    "review = review.drop(columns=['Unnamed: 0', 'App', 'Rating', 'Reviews', 'Size',\n",
    "       'Installs', 'Type', 'Price', 'Content Rating', 'Genres', 'Last Updated',\n",
    "       'Current Ver', 'Android Ver'])"
   ]
  },
  {
   "cell_type": "code",
   "execution_count": 50,
   "id": "i6yIC_gzGbm0",
   "metadata": {
    "colab": {
     "base_uri": "https://localhost:8080/"
    },
    "id": "i6yIC_gzGbm0",
    "outputId": "55be1875-2adb-419f-9614-760d93f6961c"
   },
   "outputs": [
    {
     "data": {
      "text/plain": [
       "Index(['Category', 'Translated_Review', 'Sentiment', 'Sentiment_Polarity',\n",
       "       'Sentiment_Subjectivity'],\n",
       "      dtype='object')"
      ]
     },
     "execution_count": 50,
     "metadata": {},
     "output_type": "execute_result"
    }
   ],
   "source": [
    "review.columns"
   ]
  },
  {
   "cell_type": "code",
   "execution_count": 51,
   "id": "547e3ca8-6bb2-440a-af5e-b99d7cda148e",
   "metadata": {},
   "outputs": [
    {
     "data": {
      "text/plain": [
       "Index(['App_Name', 'Category', 'Content_Rating', 'Size_Bytes', 'Released',\n",
       "       'Updated', 'Price', 'Currency', 'Free', 'Developer',\n",
       "       'Average_User_Rating', 'Reviews', 'Apple_App_Age'],\n",
       "      dtype='object')"
      ]
     },
     "execution_count": 51,
     "metadata": {},
     "output_type": "execute_result"
    }
   ],
   "source": [
    "apple.columns"
   ]
  },
  {
   "cell_type": "code",
   "execution_count": 52,
   "id": "424a655a-1c09-4a61-8760-cffdc70c617a",
   "metadata": {},
   "outputs": [
    {
     "name": "stdout",
     "output_type": "stream",
     "text": [
      "Index(['Category', 'Content_Rating', 'Size_Bytes', 'Released', 'Updated',\n",
      "       'Price', 'Currency', 'Free', 'Developer', 'Average_User_Rating',\n",
      "       'Reviews', 'Apple_App_Age'],\n",
      "      dtype='object')\n"
     ]
    }
   ],
   "source": [
    "apple = apple.drop(columns=[\"App_Name\"])\n",
    "print(apple.columns)"
   ]
  },
  {
   "cell_type": "code",
   "execution_count": 53,
   "id": "df377683-f733-4e13-ac63-9fee206f042b",
   "metadata": {
    "id": "df377683-f733-4e13-ac63-9fee206f042b"
   },
   "outputs": [],
   "source": [
    "# Rename Google Play Store User Reviews columns with a prefix\n",
    "review = review.add_prefix(\"GoogleReview_\")\n",
    "# Rename Apple App Store dataset columns with a prefix\n",
    "apple = apple.add_prefix(\"Apple_\")\n",
    "# Ensure 'Category' remains the same in Apple dataset for merging\n",
    "apple.rename(columns={\"Apple_Category\": \"Category\"}, inplace=True)\n",
    "review.rename(columns={\"GoogleReview_Category\": \"Category\"}, inplace=True)"
   ]
  },
  {
   "cell_type": "markdown",
   "id": "ltPECkMHIBwe",
   "metadata": {
    "id": "ltPECkMHIBwe"
   },
   "source": [
    "# FINAL OUTPUT"
   ]
  },
  {
   "cell_type": "code",
   "execution_count": 55,
   "id": "RoUponGeIG_r",
   "metadata": {
    "colab": {
     "base_uri": "https://localhost:8080/",
     "height": 181
    },
    "id": "RoUponGeIG_r",
    "outputId": "664c8360-4a8f-4203-fb58-8e1eb0cec280"
   },
   "outputs": [
    {
     "data": {
      "text/html": [
       "<div>\n",
       "<style scoped>\n",
       "    .dataframe tbody tr th:only-of-type {\n",
       "        vertical-align: middle;\n",
       "    }\n",
       "\n",
       "    .dataframe tbody tr th {\n",
       "        vertical-align: top;\n",
       "    }\n",
       "\n",
       "    .dataframe thead th {\n",
       "        text-align: right;\n",
       "    }\n",
       "</style>\n",
       "<table border=\"1\" class=\"dataframe\">\n",
       "  <thead>\n",
       "    <tr style=\"text-align: right;\">\n",
       "      <th></th>\n",
       "      <th>Category</th>\n",
       "      <th>GoogleReview_Translated_Review</th>\n",
       "      <th>GoogleReview_Sentiment</th>\n",
       "      <th>GoogleReview_Sentiment_Polarity</th>\n",
       "      <th>GoogleReview_Sentiment_Subjectivity</th>\n",
       "    </tr>\n",
       "  </thead>\n",
       "  <tbody>\n",
       "    <tr>\n",
       "      <th>0</th>\n",
       "      <td>art and design</td>\n",
       "      <td>A kid's excessive ads. The types ads allowed a...</td>\n",
       "      <td>Negative</td>\n",
       "      <td>-0.250</td>\n",
       "      <td>1.000000</td>\n",
       "    </tr>\n",
       "    <tr>\n",
       "      <th>1</th>\n",
       "      <td>art and design</td>\n",
       "      <td>It bad &gt;:(</td>\n",
       "      <td>Negative</td>\n",
       "      <td>-0.725</td>\n",
       "      <td>0.833333</td>\n",
       "    </tr>\n",
       "  </tbody>\n",
       "</table>\n",
       "</div>"
      ],
      "text/plain": [
       "         Category                     GoogleReview_Translated_Review  \\\n",
       "0  art and design  A kid's excessive ads. The types ads allowed a...   \n",
       "1  art and design                                         It bad >:(   \n",
       "\n",
       "  GoogleReview_Sentiment  GoogleReview_Sentiment_Polarity  \\\n",
       "0               Negative                           -0.250   \n",
       "1               Negative                           -0.725   \n",
       "\n",
       "   GoogleReview_Sentiment_Subjectivity  \n",
       "0                             1.000000  \n",
       "1                             0.833333  "
      ]
     },
     "execution_count": 55,
     "metadata": {},
     "output_type": "execute_result"
    }
   ],
   "source": [
    "review.head(2)"
   ]
  },
  {
   "cell_type": "markdown",
   "id": "qXMyhDgIgHFi",
   "metadata": {
    "id": "qXMyhDgIgHFi"
   },
   "source": [
    "#SAVING THE DATASETS"
   ]
  },
  {
   "cell_type": "code",
   "execution_count": 57,
   "id": "bpGnvnhRgJAJ",
   "metadata": {
    "colab": {
     "base_uri": "https://localhost:8080/"
    },
    "id": "bpGnvnhRgJAJ",
    "outputId": "593eaa0a-45d2-42ff-bba0-94b3aacc9deb"
   },
   "outputs": [
    {
     "name": "stdout",
     "output_type": "stream",
     "text": [
      "Successfully saved!\n"
     ]
    }
   ],
   "source": [
    "data.to_csv('cleaned_googleplaystore.csv', index=False)\n",
    "apple.to_csv('cleaned_appstore.csv', index=False)\n",
    "review.to_csv('playstorereviews.csv', index=False)\n",
    "print('Successfully saved!')"
   ]
  },
  {
   "cell_type": "code",
   "execution_count": 105,
   "id": "uIIN6C8xIsX8",
   "metadata": {
    "id": "uIIN6C8xIsX8"
   },
   "outputs": [
    {
     "data": {
      "text/plain": [
       "(2312944, 19)"
      ]
     },
     "execution_count": 105,
     "metadata": {},
     "output_type": "execute_result"
    }
   ],
   "source": [
    "data.shape"
   ]
  },
  {
   "cell_type": "code",
   "execution_count": 107,
   "id": "ee91c8ec-a8e2-4b1c-879e-f0e5cc99a5ef",
   "metadata": {},
   "outputs": [
    {
     "data": {
      "text/plain": [
       "(1230376, 12)"
      ]
     },
     "execution_count": 107,
     "metadata": {},
     "output_type": "execute_result"
    }
   ],
   "source": [
    "apple.shape"
   ]
  },
  {
   "cell_type": "code",
   "execution_count": 109,
   "id": "c97ac30b-226c-4828-b9e2-1931518c91a8",
   "metadata": {},
   "outputs": [
    {
     "data": {
      "text/plain": [
       "(48144, 5)"
      ]
     },
     "execution_count": 109,
     "metadata": {},
     "output_type": "execute_result"
    }
   ],
   "source": [
    "review.shape"
   ]
  },
  {
   "cell_type": "code",
   "execution_count": null,
   "id": "cdb14e90-b756-4f1e-9af4-3f4110bd4766",
   "metadata": {},
   "outputs": [],
   "source": []
  }
 ],
 "metadata": {
  "colab": {
   "provenance": []
  },
  "kernelspec": {
   "display_name": "Python [conda env:base] *",
   "language": "python",
   "name": "conda-base-py"
  },
  "language_info": {
   "codemirror_mode": {
    "name": "ipython",
    "version": 3
   },
   "file_extension": ".py",
   "mimetype": "text/x-python",
   "name": "python",
   "nbconvert_exporter": "python",
   "pygments_lexer": "ipython3",
   "version": "3.12.7"
  }
 },
 "nbformat": 4,
 "nbformat_minor": 5
}
